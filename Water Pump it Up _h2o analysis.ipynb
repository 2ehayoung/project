{
 "cells": [
  {
   "cell_type": "code",
   "execution_count": 1,
   "metadata": {
    "collapsed": false,
    "scrolled": true
   },
   "outputs": [],
   "source": [
    "import pandas as pd\n",
    "import numpy as np "
   ]
  },
  {
   "cell_type": "code",
   "execution_count": 2,
   "metadata": {
    "collapsed": false
   },
   "outputs": [
    {
     "name": "stdout",
     "output_type": "stream",
     "text": [
      "Checking whether there is an H2O instance running at http://localhost:54321. connected.\n",
      "Warning: Your H2O cluster version is too old (6 months and 14 days)! Please download and install the latest version from http://h2o.ai/download/\n"
     ]
    },
    {
     "data": {
      "text/html": [
       "<div style=\"overflow:auto\"><table style=\"width:50%\"><tr><td>H2O cluster uptime:</td>\n",
       "<td>41 mins 11 secs</td></tr>\n",
       "<tr><td>H2O cluster version:</td>\n",
       "<td>3.10.0.9</td></tr>\n",
       "<tr><td>H2O cluster version age:</td>\n",
       "<td>6 months and 14 days !!!</td></tr>\n",
       "<tr><td>H2O cluster name:</td>\n",
       "<td>H2O_from_python_acorn_0346ok</td></tr>\n",
       "<tr><td>H2O cluster total nodes:</td>\n",
       "<td>1</td></tr>\n",
       "<tr><td>H2O cluster free memory:</td>\n",
       "<td>1.555 Gb</td></tr>\n",
       "<tr><td>H2O cluster total cores:</td>\n",
       "<td>4</td></tr>\n",
       "<tr><td>H2O cluster allowed cores:</td>\n",
       "<td>4</td></tr>\n",
       "<tr><td>H2O cluster status:</td>\n",
       "<td>locked, healthy</td></tr>\n",
       "<tr><td>H2O connection url:</td>\n",
       "<td>http://localhost:54321</td></tr>\n",
       "<tr><td>H2O connection proxy:</td>\n",
       "<td>None</td></tr>\n",
       "<tr><td>Python version:</td>\n",
       "<td>3.5.2 final</td></tr></table></div>"
      ],
      "text/plain": [
       "--------------------------  ----------------------------\n",
       "H2O cluster uptime:         41 mins 11 secs\n",
       "H2O cluster version:        3.10.0.9\n",
       "H2O cluster version age:    6 months and 14 days !!!\n",
       "H2O cluster name:           H2O_from_python_acorn_0346ok\n",
       "H2O cluster total nodes:    1\n",
       "H2O cluster free memory:    1.555 Gb\n",
       "H2O cluster total cores:    4\n",
       "H2O cluster allowed cores:  4\n",
       "H2O cluster status:         locked, healthy\n",
       "H2O connection url:         http://localhost:54321\n",
       "H2O connection proxy:\n",
       "Python version:             3.5.2 final\n",
       "--------------------------  ----------------------------"
      ]
     },
     "metadata": {},
     "output_type": "display_data"
    }
   ],
   "source": [
    "import h2o\n",
    "h2o.init()"
   ]
  },
  {
   "cell_type": "markdown",
   "metadata": {
    "collapsed": true
   },
   "source": [
    "파일불러오기"
   ]
  },
  {
   "cell_type": "code",
   "execution_count": 3,
   "metadata": {
    "collapsed": false
   },
   "outputs": [
    {
     "name": "stdout",
     "output_type": "stream",
     "text": [
      "Parse progress: |█████████████████████████████████████████████████████████| 100%\n"
     ]
    }
   ],
   "source": [
    "data= h2o.import_file(\"pump_train_set.csv\")"
   ]
  },
  {
   "cell_type": "code",
   "execution_count": 4,
   "metadata": {
    "collapsed": false
   },
   "outputs": [
    {
     "name": "stdout",
     "output_type": "stream",
     "text": [
      "Parse progress: |█████████████████████████████████████████████████████████| 100%\n"
     ]
    }
   ],
   "source": [
    "finaltest = h2o.import_file(\"pump_test_set.csv\")"
   ]
  },
  {
   "cell_type": "code",
   "execution_count": 7,
   "metadata": {
    "collapsed": false
   },
   "outputs": [
    {
     "name": "stdout",
     "output_type": "stream",
     "text": [
      "Parse progress: |█████████████████████████████████████████████████████████| 100%\n"
     ]
    }
   ],
   "source": [
    "submitFormat = h2o.import_file(\"SubmissionFormat.csv\")"
   ]
  },
  {
   "cell_type": "code",
   "execution_count": 8,
   "metadata": {
    "collapsed": true
   },
   "outputs": [],
   "source": [
    "submit_id = submitFormat['id']"
   ]
  },
  {
   "cell_type": "code",
   "execution_count": 9,
   "metadata": {
    "collapsed": false
   },
   "outputs": [
    {
     "data": {
      "text/plain": [
       "(59400, 21)"
      ]
     },
     "execution_count": 9,
     "metadata": {},
     "output_type": "execute_result"
    }
   ],
   "source": [
    "data.shape"
   ]
  },
  {
   "cell_type": "code",
   "execution_count": 10,
   "metadata": {
    "collapsed": false
   },
   "outputs": [
    {
     "data": {
      "text/html": [
       "<table>\n",
       "<thead>\n",
       "<tr><th style=\"text-align: right;\">  amount_tsh</th><th>funder             </th><th style=\"text-align: right;\">  gps_height</th><th>installer   </th><th style=\"text-align: right;\">  longitude</th><th style=\"text-align: right;\">  latitude</th><th>basin                  </th><th>region   </th><th style=\"text-align: right;\">  population</th><th>public_meeting  </th><th>scheme_management  </th><th>permit  </th><th style=\"text-align: right;\">  construction_year</th><th>extraction_type  </th><th>management  </th><th>payment       </th><th>water_quality  </th><th>quantity    </th><th>source              </th><th>waterpoint_type            </th><th>status_group  </th></tr>\n",
       "</thead>\n",
       "<tbody>\n",
       "<tr><td style=\"text-align: right;\">     8.69968</td><td>Roman              </td><td style=\"text-align: right;\">        1390</td><td>others      </td><td style=\"text-align: right;\">    34.9381</td><td style=\"text-align: right;\">  -9.85632</td><td>Lake Nyasa             </td><td>Iringa   </td><td style=\"text-align: right;\">    4.70048 </td><td>True            </td><td>VWC                </td><td>False   </td><td style=\"text-align: right;\">               1999</td><td>gravity          </td><td>vwc         </td><td>pay annually  </td><td>soft           </td><td>enough      </td><td>spring              </td><td>communal standpipe         </td><td>functional    </td></tr>\n",
       "<tr><td style=\"text-align: right;\">     0      </td><td>others             </td><td style=\"text-align: right;\">        1399</td><td>others      </td><td style=\"text-align: right;\">    34.6988</td><td style=\"text-align: right;\">  -2.14747</td><td>Lake Victoria          </td><td>Mara     </td><td style=\"text-align: right;\">    5.63835 </td><td>unknown         </td><td>Other              </td><td>True    </td><td style=\"text-align: right;\">               2010</td><td>gravity          </td><td>wug         </td><td>never pay     </td><td>soft           </td><td>insufficient</td><td>rainwater harvesting</td><td>communal standpipe         </td><td>functional    </td></tr>\n",
       "<tr><td style=\"text-align: right;\">     3.2581 </td><td>others             </td><td style=\"text-align: right;\">         686</td><td>World vision</td><td style=\"text-align: right;\">    37.4607</td><td style=\"text-align: right;\">  -3.82133</td><td>Pangani                </td><td>Manyara  </td><td style=\"text-align: right;\">    5.52545 </td><td>True            </td><td>VWC                </td><td>True    </td><td style=\"text-align: right;\">               2009</td><td>gravity          </td><td>vwc         </td><td>pay per bucket</td><td>soft           </td><td>enough      </td><td>dam                 </td><td>communal standpipe multiple</td><td>functional    </td></tr>\n",
       "<tr><td style=\"text-align: right;\">     0      </td><td>Unicef             </td><td style=\"text-align: right;\">         263</td><td>UNICEF      </td><td style=\"text-align: right;\">    38.4862</td><td style=\"text-align: right;\"> -11.1553 </td><td>Ruvuma / Southern Coast</td><td>Mtwara   </td><td style=\"text-align: right;\">    4.07754 </td><td>True            </td><td>VWC                </td><td>True    </td><td style=\"text-align: right;\">               1986</td><td>submersible      </td><td>vwc         </td><td>never pay     </td><td>soft           </td><td>dry         </td><td>machine dbh         </td><td>communal standpipe multiple</td><td>non functional</td></tr>\n",
       "<tr><td style=\"text-align: right;\">     0      </td><td>others             </td><td style=\"text-align: right;\">           0</td><td>Artisan     </td><td style=\"text-align: right;\">    31.1308</td><td style=\"text-align: right;\">  -1.82536</td><td>Lake Victoria          </td><td>Kagera   </td><td style=\"text-align: right;\">    0       </td><td>True            </td><td>unknown            </td><td>True    </td><td style=\"text-align: right;\">               1990</td><td>gravity          </td><td>other       </td><td>never pay     </td><td>soft           </td><td>seasonal    </td><td>rainwater harvesting</td><td>communal standpipe         </td><td>functional    </td></tr>\n",
       "<tr><td style=\"text-align: right;\">     3.04452</td><td>Mkinga Distric Coun</td><td style=\"text-align: right;\">           0</td><td>DWE         </td><td style=\"text-align: right;\">    39.1728</td><td style=\"text-align: right;\">  -4.76559</td><td>Pangani                </td><td>Tanga    </td><td style=\"text-align: right;\">    0.693147</td><td>True            </td><td>VWC                </td><td>True    </td><td style=\"text-align: right;\">               2009</td><td>submersible      </td><td>vwc         </td><td>pay per bucket</td><td>salty          </td><td>enough      </td><td>other               </td><td>communal standpipe multiple</td><td>functional    </td></tr>\n",
       "<tr><td style=\"text-align: right;\">     0      </td><td>Dwsp               </td><td style=\"text-align: right;\">           0</td><td>DWSP        </td><td style=\"text-align: right;\">    33.3624</td><td style=\"text-align: right;\">  -3.76636</td><td>Internal               </td><td>Shinyanga</td><td style=\"text-align: right;\">    0       </td><td>True            </td><td>VWC                </td><td>True    </td><td style=\"text-align: right;\">               1990</td><td>swn 80           </td><td>vwc         </td><td>never pay     </td><td>soft           </td><td>enough      </td><td>machine dbh         </td><td>hand pump                  </td><td>non functional</td></tr>\n",
       "<tr><td style=\"text-align: right;\">     0      </td><td>Rwssp              </td><td style=\"text-align: right;\">           0</td><td>DWE         </td><td style=\"text-align: right;\">    32.6206</td><td style=\"text-align: right;\">  -4.2262 </td><td>Lake Tanganyika        </td><td>Shinyanga</td><td style=\"text-align: right;\">    0       </td><td>True            </td><td>unknown            </td><td>True    </td><td style=\"text-align: right;\">               1990</td><td>nira/tanira      </td><td>wug         </td><td>unknown       </td><td>milky          </td><td>enough      </td><td>shallow well        </td><td>hand pump                  </td><td>non functional</td></tr>\n",
       "<tr><td style=\"text-align: right;\">     0      </td><td>Wateraid           </td><td style=\"text-align: right;\">           0</td><td>others      </td><td style=\"text-align: right;\">    32.7111</td><td style=\"text-align: right;\">  -5.14671</td><td>Lake Tanganyika        </td><td>Tabora   </td><td style=\"text-align: right;\">    0       </td><td>True            </td><td>VWC                </td><td>True    </td><td style=\"text-align: right;\">               1990</td><td>india mark ii    </td><td>vwc         </td><td>never pay     </td><td>salty          </td><td>seasonal    </td><td>machine dbh         </td><td>hand pump                  </td><td>non functional</td></tr>\n",
       "<tr><td style=\"text-align: right;\">     0      </td><td>others             </td><td style=\"text-align: right;\">           0</td><td>Artisan     </td><td style=\"text-align: right;\">    30.627 </td><td style=\"text-align: right;\">  -1.25705</td><td>Lake Victoria          </td><td>Kagera   </td><td style=\"text-align: right;\">    0       </td><td>True            </td><td>unknown            </td><td>True    </td><td style=\"text-align: right;\">               1990</td><td>nira/tanira      </td><td>vwc         </td><td>never pay     </td><td>soft           </td><td>enough      </td><td>shallow well        </td><td>hand pump                  </td><td>functional    </td></tr>\n",
       "</tbody>\n",
       "</table>"
      ]
     },
     "metadata": {},
     "output_type": "display_data"
    },
    {
     "data": {
      "text/plain": []
     },
     "execution_count": 10,
     "metadata": {},
     "output_type": "execute_result"
    }
   ],
   "source": [
    "data.head()"
   ]
  },
  {
   "cell_type": "code",
   "execution_count": 11,
   "metadata": {
    "collapsed": false
   },
   "outputs": [
    {
     "data": {
      "text/plain": [
       "[['functional', 'functional needs repair', 'non functional']]"
      ]
     },
     "execution_count": 11,
     "metadata": {},
     "output_type": "execute_result"
    }
   ],
   "source": [
    "data['status_group'] = data['status_group'].asfactor()  #encode the binary repsonse as a factor\n",
    "data['status_group'].levels() "
   ]
  },
  {
   "cell_type": "code",
   "execution_count": 12,
   "metadata": {
    "collapsed": true
   },
   "outputs": [],
   "source": [
    "splits = data.split_frame(ratios=[0.7, 0.15], seed=1)  \n",
    "\n",
    "train = splits[0]\n",
    "valid = splits[1]\n",
    "test = splits[2]"
   ]
  },
  {
   "cell_type": "code",
   "execution_count": 13,
   "metadata": {
    "collapsed": false
   },
   "outputs": [
    {
     "name": "stdout",
     "output_type": "stream",
     "text": [
      "41601\n",
      "8827\n",
      "8972\n"
     ]
    }
   ],
   "source": [
    "\n",
    "print(train.nrow)\n",
    "print(valid.nrow)\n",
    "print (test.nrow)"
   ]
  },
  {
   "cell_type": "code",
   "execution_count": 14,
   "metadata": {
    "collapsed": true
   },
   "outputs": [],
   "source": [
    "y = 'status_group'\n",
    "x = list(data.columns)"
   ]
  },
  {
   "cell_type": "code",
   "execution_count": 15,
   "metadata": {
    "collapsed": true
   },
   "outputs": [],
   "source": [
    "x.remove(y)"
   ]
  },
  {
   "cell_type": "code",
   "execution_count": 16,
   "metadata": {
    "collapsed": false
   },
   "outputs": [
    {
     "data": {
      "text/plain": [
       "['amount_tsh',\n",
       " 'funder',\n",
       " 'gps_height',\n",
       " 'installer',\n",
       " 'longitude',\n",
       " 'latitude',\n",
       " 'basin',\n",
       " 'region',\n",
       " 'population',\n",
       " 'public_meeting',\n",
       " 'scheme_management',\n",
       " 'permit',\n",
       " 'construction_year',\n",
       " 'extraction_type',\n",
       " 'management',\n",
       " 'payment',\n",
       " 'water_quality',\n",
       " 'quantity',\n",
       " 'source',\n",
       " 'waterpoint_type']"
      ]
     },
     "execution_count": 16,
     "metadata": {},
     "output_type": "execute_result"
    }
   ],
   "source": [
    "x"
   ]
  },
  {
   "cell_type": "code",
   "execution_count": 46,
   "metadata": {
    "collapsed": true
   },
   "outputs": [],
   "source": [
    "from h2o.estimators.random_forest import H2ORandomForestEstimator"
   ]
  },
  {
   "cell_type": "code",
   "execution_count": 47,
   "metadata": {
    "collapsed": false
   },
   "outputs": [
    {
     "name": "stdout",
     "output_type": "stream",
     "text": [
      "drf Model Build progress: |███████████████████████████████████████████████| 100%\n"
     ]
    }
   ],
   "source": [
    "rf_fit1 = H2ORandomForestEstimator(model_id='rf_fit1', ntrees=100, seed=1)\n",
    "rf_fit1.train(x=x, y=y, training_frame=train)"
   ]
  },
  {
   "cell_type": "code",
   "execution_count": 48,
   "metadata": {
    "collapsed": false
   },
   "outputs": [
    {
     "name": "stdout",
     "output_type": "stream",
     "text": [
      "drf Model Build progress: |███████████████████████████████████████████████| 100%\n"
     ]
    }
   ],
   "source": [
    "rf_fit2 = H2ORandomForestEstimator(model_id='rf_fit2', ntrees=200, seed=1)\n",
    "rf_fit2.train(x=x, y=y, training_frame=train)"
   ]
  },
  {
   "cell_type": "code",
   "execution_count": 49,
   "metadata": {
    "collapsed": false
   },
   "outputs": [
    {
     "name": "stdout",
     "output_type": "stream",
     "text": [
      "drf Model Build progress: |███████████████████████████████████████████████| 100%\n"
     ]
    }
   ],
   "source": [
    "rf_fit3 = H2ORandomForestEstimator(model_id='rf_fit3', ntrees=300, seed=1)\n",
    "rf_fit3.train(x=x, y=y, training_frame=train)"
   ]
  },
  {
   "cell_type": "code",
   "execution_count": 50,
   "metadata": {
    "collapsed": false
   },
   "outputs": [
    {
     "name": "stdout",
     "output_type": "stream",
     "text": [
      "drf Model Build progress: |███████████████████████████████████████████████| 100%\n"
     ]
    }
   ],
   "source": [
    "rf_fit4 = H2ORandomForestEstimator(model_id='rf_fit4', ntrees=400, seed=1)\n",
    "rf_fit4.train(x=x, y=y, training_frame=train)"
   ]
  },
  {
   "cell_type": "code",
   "execution_count": 51,
   "metadata": {
    "collapsed": false
   },
   "outputs": [],
   "source": [
    "rf_perf1 = rf_fit1.model_performance(test)\n",
    "rf_perf2 = rf_fit2.model_performance(test)\n",
    "rf_perf3 = rf_fit3.model_performance(test)\n",
    "rf_perf4 = rf_fit4.model_performance(test)"
   ]
  },
  {
   "cell_type": "code",
   "execution_count": 62,
   "metadata": {
    "collapsed": false
   },
   "outputs": [
    {
     "name": "stdout",
     "output_type": "stream",
     "text": [
      "\n",
      "ModelMetricsMultinomial: drf\n",
      "** Reported on test data. **\n",
      "\n",
      "MSE: 0.15867419689792517\n",
      "RMSE: 0.3983392987114442\n",
      "LogLoss: 0.5000207789922031\n",
      "Mean Per-Class Error: 0.3567414046824527\n",
      "Confusion Matrix: vertical: actual; across: predicted\n",
      "\n"
     ]
    },
    {
     "data": {
      "text/html": [
       "<div style=\"overflow:auto\"><table style=\"width:50%\"><tr><td><b>functional</b></td>\n",
       "<td><b>functional needs repair</b></td>\n",
       "<td><b>non functional</b></td>\n",
       "<td><b>Error</b></td>\n",
       "<td><b>Rate</b></td></tr>\n",
       "<tr><td>4396.0</td>\n",
       "<td>73.0</td>\n",
       "<td>317.0</td>\n",
       "<td>0.0814877</td>\n",
       "<td>390 / 4,786</td></tr>\n",
       "<tr><td>362.0</td>\n",
       "<td>176.0</td>\n",
       "<td>101.0</td>\n",
       "<td>0.7245696</td>\n",
       "<td>463 / 639</td></tr>\n",
       "<tr><td>913.0</td>\n",
       "<td>24.0</td>\n",
       "<td>2610.0</td>\n",
       "<td>0.2641669</td>\n",
       "<td>937 / 3,547</td></tr>\n",
       "<tr><td>5671.0</td>\n",
       "<td>273.0</td>\n",
       "<td>3028.0</td>\n",
       "<td>0.1995096</td>\n",
       "<td>1,790 / 8,972</td></tr></table></div>"
      ],
      "text/plain": [
       "functional    functional needs repair    non functional    Error      Rate\n",
       "------------  -------------------------  ----------------  ---------  -------------\n",
       "4396          73                         317               0.0814877  390 / 4,786\n",
       "362           176                        101               0.72457    463 / 639\n",
       "913           24                         2610              0.264167   937 / 3,547\n",
       "5671          273                        3028              0.19951    1,790 / 8,972"
      ]
     },
     "metadata": {},
     "output_type": "display_data"
    },
    {
     "name": "stdout",
     "output_type": "stream",
     "text": [
      "Top-3 Hit Ratios: \n"
     ]
    },
    {
     "data": {
      "text/html": [
       "<div style=\"overflow:auto\"><table style=\"width:50%\"><tr><td><b>k</b></td>\n",
       "<td><b>hit_ratio</b></td></tr>\n",
       "<tr><td>1</td>\n",
       "<td>0.8004904</td></tr>\n",
       "<tr><td>2</td>\n",
       "<td>0.9569773</td></tr>\n",
       "<tr><td>3</td>\n",
       "<td>1.0</td></tr></table></div>"
      ],
      "text/plain": [
       "k    hit_ratio\n",
       "---  -----------\n",
       "1    0.80049\n",
       "2    0.956977\n",
       "3    1"
      ]
     },
     "metadata": {},
     "output_type": "display_data"
    },
    {
     "data": {
      "text/plain": []
     },
     "execution_count": 62,
     "metadata": {},
     "output_type": "execute_result"
    }
   ],
   "source": [
    "rf_perf1 #0.7993"
   ]
  },
  {
   "cell_type": "code",
   "execution_count": 63,
   "metadata": {
    "collapsed": false
   },
   "outputs": [
    {
     "name": "stdout",
     "output_type": "stream",
     "text": [
      "\n",
      "ModelMetricsMultinomial: drf\n",
      "** Reported on test data. **\n",
      "\n",
      "MSE: 0.15853106846420098\n",
      "RMSE: 0.3981596017480942\n",
      "LogLoss: 0.49490702851516166\n",
      "Mean Per-Class Error: 0.3606018862949458\n",
      "Confusion Matrix: vertical: actual; across: predicted\n",
      "\n"
     ]
    },
    {
     "data": {
      "text/html": [
       "<div style=\"overflow:auto\"><table style=\"width:50%\"><tr><td><b>functional</b></td>\n",
       "<td><b>functional needs repair</b></td>\n",
       "<td><b>non functional</b></td>\n",
       "<td><b>Error</b></td>\n",
       "<td><b>Rate</b></td></tr>\n",
       "<tr><td>4393.0</td>\n",
       "<td>75.0</td>\n",
       "<td>318.0</td>\n",
       "<td>0.0821145</td>\n",
       "<td>393 / 4,786</td></tr>\n",
       "<tr><td>371.0</td>\n",
       "<td>169.0</td>\n",
       "<td>99.0</td>\n",
       "<td>0.7355243</td>\n",
       "<td>470 / 639</td></tr>\n",
       "<tr><td>916.0</td>\n",
       "<td>21.0</td>\n",
       "<td>2610.0</td>\n",
       "<td>0.2641669</td>\n",
       "<td>937 / 3,547</td></tr>\n",
       "<tr><td>5680.0</td>\n",
       "<td>265.0</td>\n",
       "<td>3027.0</td>\n",
       "<td>0.2006242</td>\n",
       "<td>1,800 / 8,972</td></tr></table></div>"
      ],
      "text/plain": [
       "functional    functional needs repair    non functional    Error      Rate\n",
       "------------  -------------------------  ----------------  ---------  -------------\n",
       "4393          75                         318               0.0821145  393 / 4,786\n",
       "371           169                        99                0.735524   470 / 639\n",
       "916           21                         2610              0.264167   937 / 3,547\n",
       "5680          265                        3027              0.200624   1,800 / 8,972"
      ]
     },
     "metadata": {},
     "output_type": "display_data"
    },
    {
     "name": "stdout",
     "output_type": "stream",
     "text": [
      "Top-3 Hit Ratios: \n"
     ]
    },
    {
     "data": {
      "text/html": [
       "<div style=\"overflow:auto\"><table style=\"width:50%\"><tr><td><b>k</b></td>\n",
       "<td><b>hit_ratio</b></td></tr>\n",
       "<tr><td>1</td>\n",
       "<td>0.7993758</td></tr>\n",
       "<tr><td>2</td>\n",
       "<td>0.9584262</td></tr>\n",
       "<tr><td>3</td>\n",
       "<td>1.0</td></tr></table></div>"
      ],
      "text/plain": [
       "k    hit_ratio\n",
       "---  -----------\n",
       "1    0.799376\n",
       "2    0.958426\n",
       "3    1"
      ]
     },
     "metadata": {},
     "output_type": "display_data"
    },
    {
     "data": {
      "text/plain": []
     },
     "execution_count": 63,
     "metadata": {},
     "output_type": "execute_result"
    }
   ],
   "source": [
    "rf_perf2"
   ]
  },
  {
   "cell_type": "code",
   "execution_count": 64,
   "metadata": {
    "collapsed": false
   },
   "outputs": [
    {
     "name": "stdout",
     "output_type": "stream",
     "text": [
      "\n",
      "ModelMetricsMultinomial: drf\n",
      "** Reported on test data. **\n",
      "\n",
      "MSE: 0.15842838516065175\n",
      "RMSE: 0.39803063344502987\n",
      "LogLoss: 0.4936193899673478\n",
      "Mean Per-Class Error: 0.3604528043489518\n",
      "Confusion Matrix: vertical: actual; across: predicted\n",
      "\n"
     ]
    },
    {
     "data": {
      "text/html": [
       "<div style=\"overflow:auto\"><table style=\"width:50%\"><tr><td><b>functional</b></td>\n",
       "<td><b>functional needs repair</b></td>\n",
       "<td><b>non functional</b></td>\n",
       "<td><b>Error</b></td>\n",
       "<td><b>Rate</b></td></tr>\n",
       "<tr><td>4389.0</td>\n",
       "<td>74.0</td>\n",
       "<td>323.0</td>\n",
       "<td>0.0829503</td>\n",
       "<td>397 / 4,786</td></tr>\n",
       "<tr><td>370.0</td>\n",
       "<td>170.0</td>\n",
       "<td>99.0</td>\n",
       "<td>0.7339593</td>\n",
       "<td>469 / 639</td></tr>\n",
       "<tr><td>916.0</td>\n",
       "<td>22.0</td>\n",
       "<td>2609.0</td>\n",
       "<td>0.2644488</td>\n",
       "<td>938 / 3,547</td></tr>\n",
       "<tr><td>5675.0</td>\n",
       "<td>266.0</td>\n",
       "<td>3031.0</td>\n",
       "<td>0.2010700</td>\n",
       "<td>1,804 / 8,972</td></tr></table></div>"
      ],
      "text/plain": [
       "functional    functional needs repair    non functional    Error      Rate\n",
       "------------  -------------------------  ----------------  ---------  -------------\n",
       "4389          74                         323               0.0829503  397 / 4,786\n",
       "370           170                        99                0.733959   469 / 639\n",
       "916           22                         2609              0.264449   938 / 3,547\n",
       "5675          266                        3031              0.20107    1,804 / 8,972"
      ]
     },
     "metadata": {},
     "output_type": "display_data"
    },
    {
     "name": "stdout",
     "output_type": "stream",
     "text": [
      "Top-3 Hit Ratios: \n"
     ]
    },
    {
     "data": {
      "text/html": [
       "<div style=\"overflow:auto\"><table style=\"width:50%\"><tr><td><b>k</b></td>\n",
       "<td><b>hit_ratio</b></td></tr>\n",
       "<tr><td>1</td>\n",
       "<td>0.79893</td></tr>\n",
       "<tr><td>2</td>\n",
       "<td>0.9587606</td></tr>\n",
       "<tr><td>3</td>\n",
       "<td>1.0</td></tr></table></div>"
      ],
      "text/plain": [
       "k    hit_ratio\n",
       "---  -----------\n",
       "1    0.79893\n",
       "2    0.958761\n",
       "3    1"
      ]
     },
     "metadata": {},
     "output_type": "display_data"
    },
    {
     "data": {
      "text/plain": []
     },
     "execution_count": 64,
     "metadata": {},
     "output_type": "execute_result"
    }
   ],
   "source": [
    "rf_perf3 "
   ]
  },
  {
   "cell_type": "code",
   "execution_count": 84,
   "metadata": {
    "collapsed": false
   },
   "outputs": [
    {
     "name": "stdout",
     "output_type": "stream",
     "text": [
      "\n",
      "ModelMetricsMultinomial: drf\n",
      "** Reported on test data. **\n",
      "\n",
      "MSE: 0.15825887208886605\n",
      "RMSE: 0.39781763672424836\n",
      "LogLoss: 0.49279767518350076\n",
      "Mean Per-Class Error: 0.36065054338861396\n",
      "Confusion Matrix: vertical: actual; across: predicted\n",
      "\n"
     ]
    },
    {
     "data": {
      "text/html": [
       "<div style=\"overflow:auto\"><table style=\"width:50%\"><tr><td><b>functional</b></td>\n",
       "<td><b>functional needs repair</b></td>\n",
       "<td><b>non functional</b></td>\n",
       "<td><b>Error</b></td>\n",
       "<td><b>Rate</b></td></tr>\n",
       "<tr><td>4395.0</td>\n",
       "<td>76.0</td>\n",
       "<td>315.0</td>\n",
       "<td>0.0816966</td>\n",
       "<td>391 / 4,786</td></tr>\n",
       "<tr><td>372.0</td>\n",
       "<td>169.0</td>\n",
       "<td>98.0</td>\n",
       "<td>0.7355243</td>\n",
       "<td>470 / 639</td></tr>\n",
       "<tr><td>917.0</td>\n",
       "<td>22.0</td>\n",
       "<td>2608.0</td>\n",
       "<td>0.2647308</td>\n",
       "<td>939 / 3,547</td></tr>\n",
       "<tr><td>5684.0</td>\n",
       "<td>267.0</td>\n",
       "<td>3021.0</td>\n",
       "<td>0.2006242</td>\n",
       "<td>1,800 / 8,972</td></tr></table></div>"
      ],
      "text/plain": [
       "functional    functional needs repair    non functional    Error      Rate\n",
       "------------  -------------------------  ----------------  ---------  -------------\n",
       "4395          76                         315               0.0816966  391 / 4,786\n",
       "372           169                        98                0.735524   470 / 639\n",
       "917           22                         2608              0.264731   939 / 3,547\n",
       "5684          267                        3021              0.200624   1,800 / 8,972"
      ]
     },
     "metadata": {},
     "output_type": "display_data"
    },
    {
     "name": "stdout",
     "output_type": "stream",
     "text": [
      "Top-3 Hit Ratios: \n"
     ]
    },
    {
     "data": {
      "text/html": [
       "<div style=\"overflow:auto\"><table style=\"width:50%\"><tr><td><b>k</b></td>\n",
       "<td><b>hit_ratio</b></td></tr>\n",
       "<tr><td>1</td>\n",
       "<td>0.7993758</td></tr>\n",
       "<tr><td>2</td>\n",
       "<td>0.9592064</td></tr>\n",
       "<tr><td>3</td>\n",
       "<td>1.0</td></tr></table></div>"
      ],
      "text/plain": [
       "k    hit_ratio\n",
       "---  -----------\n",
       "1    0.799376\n",
       "2    0.959206\n",
       "3    1"
      ]
     },
     "metadata": {},
     "output_type": "display_data"
    },
    {
     "data": {
      "text/plain": []
     },
     "execution_count": 84,
     "metadata": {},
     "output_type": "execute_result"
    }
   ],
   "source": [
    "rf_perf4"
   ]
  },
  {
   "cell_type": "code",
   "execution_count": 94,
   "metadata": {
    "collapsed": false
   },
   "outputs": [
    {
     "name": "stdout",
     "output_type": "stream",
     "text": [
      "drf Model Build progress: |███████████████████████████████████████████████| 100%\n"
     ]
    }
   ],
   "source": [
    "rf_fit5 = H2ORandomForestEstimator(model_id='rf_fit5', seed=1, nfolds=5)\n",
    "rf_fit5.train(x=x, y=y, training_frame=data)"
   ]
  },
  {
   "cell_type": "code",
   "execution_count": 90,
   "metadata": {
    "collapsed": false
   },
   "outputs": [
    {
     "name": "stdout",
     "output_type": "stream",
     "text": [
      "drf Model Build progress: |███████████████████████████████████████████████| 100%\n"
     ]
    }
   ],
   "source": [
    "rf_fit5_1 = H2ORandomForestEstimator(model_id='rf_fit5_1', seed=1, nfolds=5,ntrees=100)\n",
    "rf_fit5_1.train(x=x, y=y, training_frame=data)"
   ]
  },
  {
   "cell_type": "code",
   "execution_count": 52,
   "metadata": {
    "collapsed": false
   },
   "outputs": [
    {
     "name": "stdout",
     "output_type": "stream",
     "text": [
      "drf Model Build progress: |███████████████████████████████████████████████| 100%\n"
     ]
    }
   ],
   "source": [
    "rf_fit5_2 = H2ORandomForestEstimator(model_id='rf_fit5_2', seed=1, nfolds=5,ntrees=200)\n",
    "rf_fit5_2.train(x=x, y=y, training_frame=data)"
   ]
  },
  {
   "cell_type": "code",
   "execution_count": 95,
   "metadata": {
    "collapsed": false
   },
   "outputs": [],
   "source": [
    "rf_perf5 = rf_fit5.model_performance(test)"
   ]
  },
  {
   "cell_type": "code",
   "execution_count": 96,
   "metadata": {
    "collapsed": true
   },
   "outputs": [],
   "source": [
    "rf_perf5_1=rf_fit5_1.model_performance(test)"
   ]
  },
  {
   "cell_type": "code",
   "execution_count": 102,
   "metadata": {
    "collapsed": true
   },
   "outputs": [],
   "source": [
    "rf_perf5_2=rf_fit5_2.model_performance(test)"
   ]
  },
  {
   "cell_type": "code",
   "execution_count": 54,
   "metadata": {
    "collapsed": false
   },
   "outputs": [
    {
     "name": "stdout",
     "output_type": "stream",
     "text": [
      "Model Details\n",
      "=============\n",
      "H2ORandomForestEstimator :  Distributed Random Forest\n",
      "Model Key:  rf_fit5_2\n",
      "Model Summary: \n"
     ]
    },
    {
     "data": {
      "text/html": [
       "<div style=\"overflow:auto\"><table style=\"width:50%\"><tr><td><b></b></td>\n",
       "<td><b>number_of_trees</b></td>\n",
       "<td><b>number_of_internal_trees</b></td>\n",
       "<td><b>model_size_in_bytes</b></td>\n",
       "<td><b>min_depth</b></td>\n",
       "<td><b>max_depth</b></td>\n",
       "<td><b>mean_depth</b></td>\n",
       "<td><b>min_leaves</b></td>\n",
       "<td><b>max_leaves</b></td>\n",
       "<td><b>mean_leaves</b></td></tr>\n",
       "<tr><td></td>\n",
       "<td>200.0</td>\n",
       "<td>600.0</td>\n",
       "<td>24462671.0000000</td>\n",
       "<td>20.0</td>\n",
       "<td>20.0</td>\n",
       "<td>20.0</td>\n",
       "<td>1594.0</td>\n",
       "<td>4357.0</td>\n",
       "<td>3067.63</td></tr></table></div>"
      ],
      "text/plain": [
       "    number_of_trees    number_of_internal_trees    model_size_in_bytes    min_depth    max_depth    mean_depth    min_leaves    max_leaves    mean_leaves\n",
       "--  -----------------  --------------------------  ---------------------  -----------  -----------  ------------  ------------  ------------  -------------\n",
       "    200                600                         2.44627e+07            20           20           20            1594          4357          3067.63"
      ]
     },
     "metadata": {},
     "output_type": "display_data"
    },
    {
     "name": "stdout",
     "output_type": "stream",
     "text": [
      "\n",
      "\n",
      "ModelMetricsMultinomial: drf\n",
      "** Reported on train data. **\n",
      "\n",
      "MSE: 0.15447768301612494\n",
      "RMSE: 0.39303649069281715\n",
      "LogLoss: 0.48443244171905936\n",
      "Mean Per-Class Error: 0.3529716821395847\n",
      "Confusion Matrix: vertical: actual; across: predicted\n",
      "\n"
     ]
    },
    {
     "data": {
      "text/html": [
       "<div style=\"overflow:auto\"><table style=\"width:50%\"><tr><td><b>functional</b></td>\n",
       "<td><b>functional needs repair</b></td>\n",
       "<td><b>non functional</b></td>\n",
       "<td><b>Error</b></td>\n",
       "<td><b>Rate</b></td></tr>\n",
       "<tr><td>29755.0</td>\n",
       "<td>407.0</td>\n",
       "<td>2097.0</td>\n",
       "<td>0.0776217</td>\n",
       "<td>2,504 / 32,259</td></tr>\n",
       "<tr><td>2612.0</td>\n",
       "<td>1188.0</td>\n",
       "<td>517.0</td>\n",
       "<td>0.7248089</td>\n",
       "<td>3,129 / 4,317</td></tr>\n",
       "<tr><td>5654.0</td>\n",
       "<td>200.0</td>\n",
       "<td>16970.0</td>\n",
       "<td>0.2564844</td>\n",
       "<td>5,854 / 22,824</td></tr>\n",
       "<tr><td>38021.0</td>\n",
       "<td>1795.0</td>\n",
       "<td>19584.0</td>\n",
       "<td>0.1933838</td>\n",
       "<td>11,487 / 59,400</td></tr></table></div>"
      ],
      "text/plain": [
       "functional    functional needs repair    non functional    Error      Rate\n",
       "------------  -------------------------  ----------------  ---------  ---------------\n",
       "29755         407                        2097              0.0776217  2,504 / 32,259\n",
       "2612          1188                       517               0.724809   3,129 / 4,317\n",
       "5654          200                        16970             0.256484   5,854 / 22,824\n",
       "38021         1795                       19584             0.193384   11,487 / 59,400"
      ]
     },
     "metadata": {},
     "output_type": "display_data"
    },
    {
     "name": "stdout",
     "output_type": "stream",
     "text": [
      "Top-3 Hit Ratios: \n"
     ]
    },
    {
     "data": {
      "text/html": [
       "<div style=\"overflow:auto\"><table style=\"width:50%\"><tr><td><b>k</b></td>\n",
       "<td><b>hit_ratio</b></td></tr>\n",
       "<tr><td>1</td>\n",
       "<td>0.8066162</td></tr>\n",
       "<tr><td>2</td>\n",
       "<td>0.9596465</td></tr>\n",
       "<tr><td>3</td>\n",
       "<td>1.0</td></tr></table></div>"
      ],
      "text/plain": [
       "k    hit_ratio\n",
       "---  -----------\n",
       "1    0.806616\n",
       "2    0.959646\n",
       "3    1"
      ]
     },
     "metadata": {},
     "output_type": "display_data"
    },
    {
     "name": "stdout",
     "output_type": "stream",
     "text": [
      "\n",
      "ModelMetricsMultinomial: drf\n",
      "** Reported on cross-validation data. **\n",
      "\n",
      "MSE: 0.1555906197738922\n",
      "RMSE: 0.3944497683785506\n",
      "LogLoss: 0.487002180477402\n",
      "Mean Per-Class Error: 0.353478328332866\n",
      "Confusion Matrix: vertical: actual; across: predicted\n",
      "\n"
     ]
    },
    {
     "data": {
      "text/html": [
       "<div style=\"overflow:auto\"><table style=\"width:50%\"><tr><td><b>functional</b></td>\n",
       "<td><b>functional needs repair</b></td>\n",
       "<td><b>non functional</b></td>\n",
       "<td><b>Error</b></td>\n",
       "<td><b>Rate</b></td></tr>\n",
       "<tr><td>29688.0</td>\n",
       "<td>399.0</td>\n",
       "<td>2172.0</td>\n",
       "<td>0.0796987</td>\n",
       "<td>2,571 / 32,259</td></tr>\n",
       "<tr><td>2587.0</td>\n",
       "<td>1187.0</td>\n",
       "<td>543.0</td>\n",
       "<td>0.7250405</td>\n",
       "<td>3,130 / 4,317</td></tr>\n",
       "<tr><td>5648.0</td>\n",
       "<td>188.0</td>\n",
       "<td>16988.0</td>\n",
       "<td>0.2556958</td>\n",
       "<td>5,836 / 22,824</td></tr>\n",
       "<tr><td>37923.0</td>\n",
       "<td>1774.0</td>\n",
       "<td>19703.0</td>\n",
       "<td>0.1942256</td>\n",
       "<td>11,537 / 59,400</td></tr></table></div>"
      ],
      "text/plain": [
       "functional    functional needs repair    non functional    Error      Rate\n",
       "------------  -------------------------  ----------------  ---------  ---------------\n",
       "29688         399                        2172              0.0796987  2,571 / 32,259\n",
       "2587          1187                       543               0.725041   3,130 / 4,317\n",
       "5648          188                        16988             0.255696   5,836 / 22,824\n",
       "37923         1774                       19703             0.194226   11,537 / 59,400"
      ]
     },
     "metadata": {},
     "output_type": "display_data"
    },
    {
     "name": "stdout",
     "output_type": "stream",
     "text": [
      "Top-3 Hit Ratios: \n"
     ]
    },
    {
     "data": {
      "text/html": [
       "<div style=\"overflow:auto\"><table style=\"width:50%\"><tr><td><b>k</b></td>\n",
       "<td><b>hit_ratio</b></td></tr>\n",
       "<tr><td>1</td>\n",
       "<td>0.8057744</td></tr>\n",
       "<tr><td>2</td>\n",
       "<td>0.9595623</td></tr>\n",
       "<tr><td>3</td>\n",
       "<td>1.0</td></tr></table></div>"
      ],
      "text/plain": [
       "k    hit_ratio\n",
       "---  -----------\n",
       "1    0.805774\n",
       "2    0.959562\n",
       "3    1"
      ]
     },
     "metadata": {},
     "output_type": "display_data"
    },
    {
     "name": "stdout",
     "output_type": "stream",
     "text": [
      "Cross-Validation Metrics Summary: \n"
     ]
    },
    {
     "data": {
      "text/html": [
       "<div style=\"overflow:auto\"><table style=\"width:50%\"><tr><td><b></b></td>\n",
       "<td><b>mean</b></td>\n",
       "<td><b>sd</b></td>\n",
       "<td><b>cv_1_valid</b></td>\n",
       "<td><b>cv_2_valid</b></td>\n",
       "<td><b>cv_3_valid</b></td>\n",
       "<td><b>cv_4_valid</b></td>\n",
       "<td><b>cv_5_valid</b></td></tr>\n",
       "<tr><td>accuracy</td>\n",
       "<td>0.8057814</td>\n",
       "<td>0.0012722</td>\n",
       "<td>0.8079186</td>\n",
       "<td>0.806107</td>\n",
       "<td>0.8033156</td>\n",
       "<td>0.8074307</td>\n",
       "<td>0.804135</td></tr>\n",
       "<tr><td>err</td>\n",
       "<td>0.1942186</td>\n",
       "<td>0.0012722</td>\n",
       "<td>0.1920814</td>\n",
       "<td>0.193893</td>\n",
       "<td>0.1966844</td>\n",
       "<td>0.1925693</td>\n",
       "<td>0.1958650</td></tr>\n",
       "<tr><td>err_count</td>\n",
       "<td>2307.4</td>\n",
       "<td>23.158585</td>\n",
       "<td>2285.0</td>\n",
       "<td>2305.0</td>\n",
       "<td>2361.0</td>\n",
       "<td>2265.0</td>\n",
       "<td>2321.0</td></tr>\n",
       "<tr><td>logloss</td>\n",
       "<td>0.4869887</td>\n",
       "<td>0.0020110</td>\n",
       "<td>0.4838276</td>\n",
       "<td>0.4885387</td>\n",
       "<td>0.4917805</td>\n",
       "<td>0.4852857</td>\n",
       "<td>0.4855109</td></tr>\n",
       "<tr><td>max_per_class_error</td>\n",
       "<td>0.7252591</td>\n",
       "<td>0.0074709</td>\n",
       "<td>0.7115813</td>\n",
       "<td>0.7227379</td>\n",
       "<td>0.7418224</td>\n",
       "<td>0.7317961</td>\n",
       "<td>0.7183580</td></tr>\n",
       "<tr><td>mean_per_class_accuracy</td>\n",
       "<td>0.64646</td>\n",
       "<td>0.0031278</td>\n",
       "<td>0.6532835</td>\n",
       "<td>0.6472086</td>\n",
       "<td>0.6397687</td>\n",
       "<td>0.6443542</td>\n",
       "<td>0.647685</td></tr>\n",
       "<tr><td>mean_per_class_error</td>\n",
       "<td>0.35354</td>\n",
       "<td>0.0031278</td>\n",
       "<td>0.3467164</td>\n",
       "<td>0.3527915</td>\n",
       "<td>0.3602313</td>\n",
       "<td>0.3556458</td>\n",
       "<td>0.3523150</td></tr>\n",
       "<tr><td>mse</td>\n",
       "<td>0.1555877</td>\n",
       "<td>0.0005594</td>\n",
       "<td>0.1544329</td>\n",
       "<td>0.1562531</td>\n",
       "<td>0.1565457</td>\n",
       "<td>0.1549500</td>\n",
       "<td>0.1557566</td></tr>\n",
       "<tr><td>r2</td>\n",
       "<td>0.8275178</td>\n",
       "<td>0.0004240</td>\n",
       "<td>0.8281971</td>\n",
       "<td>0.8266666</td>\n",
       "<td>0.8273178</td>\n",
       "<td>0.8282052</td>\n",
       "<td>0.8272022</td></tr>\n",
       "<tr><td>rmse</td>\n",
       "<td>0.3944447</td>\n",
       "<td>0.0007093</td>\n",
       "<td>0.3929794</td>\n",
       "<td>0.3952886</td>\n",
       "<td>0.3956586</td>\n",
       "<td>0.3936369</td>\n",
       "<td>0.3946602</td></tr></table></div>"
      ],
      "text/plain": [
       "                         mean      sd           cv_1_valid    cv_2_valid    cv_3_valid    cv_4_valid    cv_5_valid\n",
       "-----------------------  --------  -----------  ------------  ------------  ------------  ------------  ------------\n",
       "accuracy                 0.805781  0.0012722    0.807919      0.806107      0.803316      0.807431      0.804135\n",
       "err                      0.194219  0.0012722    0.192081      0.193893      0.196684      0.192569      0.195865\n",
       "err_count                2307.4    23.1586      2285          2305          2361          2265          2321\n",
       "logloss                  0.486989  0.00201096   0.483828      0.488539      0.49178       0.485286      0.485511\n",
       "max_per_class_error      0.725259  0.00747088   0.711581      0.722738      0.741822      0.731796      0.718358\n",
       "mean_per_class_accuracy  0.64646   0.00312777   0.653284      0.647209      0.639769      0.644354      0.647685\n",
       "mean_per_class_error     0.35354   0.00312777   0.346716      0.352791      0.360231      0.355646      0.352315\n",
       "mse                      0.155588  0.000559409  0.154433      0.156253      0.156546      0.15495       0.155757\n",
       "r2                       0.827518  0.000424046  0.828197      0.826667      0.827318      0.828205      0.827202\n",
       "rmse                     0.394445  0.000709337  0.392979      0.395289      0.395659      0.393637      0.39466"
      ]
     },
     "metadata": {},
     "output_type": "display_data"
    },
    {
     "name": "stdout",
     "output_type": "stream",
     "text": [
      "Scoring History: \n"
     ]
    },
    {
     "data": {
      "text/html": [
       "<div style=\"overflow:auto\"><table style=\"width:50%\"><tr><td><b></b></td>\n",
       "<td><b>timestamp</b></td>\n",
       "<td><b>duration</b></td>\n",
       "<td><b>number_of_trees</b></td>\n",
       "<td><b>training_rmse</b></td>\n",
       "<td><b>training_logloss</b></td>\n",
       "<td><b>training_classification_error</b></td></tr>\n",
       "<tr><td></td>\n",
       "<td>2017-05-17 14:47:59</td>\n",
       "<td> 3 min 33.926 sec</td>\n",
       "<td>0.0</td>\n",
       "<td>nan</td>\n",
       "<td>nan</td>\n",
       "<td>nan</td></tr>\n",
       "<tr><td></td>\n",
       "<td>2017-05-17 14:48:00</td>\n",
       "<td> 3 min 34.101 sec</td>\n",
       "<td>1.0</td>\n",
       "<td>0.5421211</td>\n",
       "<td>7.8329258</td>\n",
       "<td>0.2899694</td></tr>\n",
       "<tr><td></td>\n",
       "<td>2017-05-17 14:48:00</td>\n",
       "<td> 3 min 34.289 sec</td>\n",
       "<td>2.0</td>\n",
       "<td>0.5373064</td>\n",
       "<td>7.5045630</td>\n",
       "<td>0.2894803</td></tr>\n",
       "<tr><td></td>\n",
       "<td>2017-05-17 14:48:00</td>\n",
       "<td> 3 min 34.473 sec</td>\n",
       "<td>3.0</td>\n",
       "<td>0.5087717</td>\n",
       "<td>6.0955456</td>\n",
       "<td>0.2709099</td></tr>\n",
       "<tr><td></td>\n",
       "<td>2017-05-17 14:48:00</td>\n",
       "<td> 3 min 34.644 sec</td>\n",
       "<td>4.0</td>\n",
       "<td>0.4965550</td>\n",
       "<td>5.3444079</td>\n",
       "<td>0.2648228</td></tr>\n",
       "<tr><td>---</td>\n",
       "<td>---</td>\n",
       "<td>---</td>\n",
       "<td>---</td>\n",
       "<td>---</td>\n",
       "<td>---</td>\n",
       "<td>---</td></tr>\n",
       "<tr><td></td>\n",
       "<td>2017-05-17 14:48:20</td>\n",
       "<td> 3 min 54.203 sec</td>\n",
       "<td>111.0</td>\n",
       "<td>0.3935262</td>\n",
       "<td>0.4935152</td>\n",
       "<td>0.1939731</td></tr>\n",
       "<tr><td></td>\n",
       "<td>2017-05-17 14:48:24</td>\n",
       "<td> 3 min 58.308 sec</td>\n",
       "<td>134.0</td>\n",
       "<td>0.3933529</td>\n",
       "<td>0.4900055</td>\n",
       "<td>0.1948485</td></tr>\n",
       "<tr><td></td>\n",
       "<td>2017-05-17 14:48:28</td>\n",
       "<td> 4 min  2.359 sec</td>\n",
       "<td>157.0</td>\n",
       "<td>0.3932805</td>\n",
       "<td>0.4876577</td>\n",
       "<td>0.1946465</td></tr>\n",
       "<tr><td></td>\n",
       "<td>2017-05-17 14:48:32</td>\n",
       "<td> 4 min  6.401 sec</td>\n",
       "<td>180.0</td>\n",
       "<td>0.3931066</td>\n",
       "<td>0.4851648</td>\n",
       "<td>0.1938384</td></tr>\n",
       "<tr><td></td>\n",
       "<td>2017-05-17 14:48:36</td>\n",
       "<td> 4 min 10.070 sec</td>\n",
       "<td>200.0</td>\n",
       "<td>0.3930365</td>\n",
       "<td>0.4844324</td>\n",
       "<td>0.1933838</td></tr></table></div>"
      ],
      "text/plain": [
       "     timestamp            duration          number_of_trees    training_rmse        training_logloss     training_classification_error\n",
       "---  -------------------  ----------------  -----------------  -------------------  -------------------  -------------------------------\n",
       "     2017-05-17 14:47:59  3 min 33.926 sec  0.0                nan                  nan                  nan\n",
       "     2017-05-17 14:48:00  3 min 34.101 sec  1.0                0.5421210678304734   7.83292581985709     0.2899694384892579\n",
       "     2017-05-17 14:48:00  3 min 34.289 sec  2.0                0.5373064301988918   7.504562958539081    0.28948027725969433\n",
       "     2017-05-17 14:48:00  3 min 34.473 sec  3.0                0.508771728809254    6.095545631675714    0.27090990587180636\n",
       "     2017-05-17 14:48:00  3 min 34.644 sec  4.0                0.4965550438168433   5.344407932593232    0.26482284526688116\n",
       "---  ---                  ---               ---                ---                  ---                  ---\n",
       "     2017-05-17 14:48:20  3 min 54.203 sec  111.0              0.3935262316933513   0.4935152372883327   0.19397306397306396\n",
       "     2017-05-17 14:48:24  3 min 58.308 sec  134.0              0.39335287549366427  0.49000546459063427  0.19484848484848485\n",
       "     2017-05-17 14:48:28  4 min  2.359 sec  157.0              0.3932804729050652   0.48765770733849684  0.19464646464646465\n",
       "     2017-05-17 14:48:32  4 min  6.401 sec  180.0              0.39310658839067664  0.4851647633352104   0.19383838383838384\n",
       "     2017-05-17 14:48:36  4 min 10.070 sec  200.0              0.39303649069281715  0.48443244171905936  0.19338383838383838"
      ]
     },
     "metadata": {},
     "output_type": "display_data"
    },
    {
     "name": "stdout",
     "output_type": "stream",
     "text": [
      "\n",
      "See the whole table with table.as_data_frame()\n",
      "Variable Importances: \n"
     ]
    },
    {
     "data": {
      "text/html": [
       "<div style=\"overflow:auto\"><table style=\"width:50%\"><tr><td><b>variable</b></td>\n",
       "<td><b>relative_importance</b></td>\n",
       "<td><b>scaled_importance</b></td>\n",
       "<td><b>percentage</b></td></tr>\n",
       "<tr><td>quantity</td>\n",
       "<td>562840.5</td>\n",
       "<td>1.0</td>\n",
       "<td>0.1848549</td></tr>\n",
       "<tr><td>funder</td>\n",
       "<td>309902.5625000</td>\n",
       "<td>0.5506046</td>\n",
       "<td>0.1017820</td></tr>\n",
       "<tr><td>extraction_type</td>\n",
       "<td>299910.4375000</td>\n",
       "<td>0.5328516</td>\n",
       "<td>0.0985002</td></tr>\n",
       "<tr><td>installer</td>\n",
       "<td>253254.3593750</td>\n",
       "<td>0.4499576</td>\n",
       "<td>0.0831769</td></tr>\n",
       "<tr><td>waterpoint_type</td>\n",
       "<td>245694.2031250</td>\n",
       "<td>0.4365255</td>\n",
       "<td>0.0806939</td></tr>\n",
       "<tr><td>region</td>\n",
       "<td>154929.1718750</td>\n",
       "<td>0.2752630</td>\n",
       "<td>0.0508837</td></tr>\n",
       "<tr><td>payment</td>\n",
       "<td>150111.9062500</td>\n",
       "<td>0.2667042</td>\n",
       "<td>0.0493016</td></tr>\n",
       "<tr><td>construction_year</td>\n",
       "<td>138624.8125000</td>\n",
       "<td>0.2462950</td>\n",
       "<td>0.0455288</td></tr>\n",
       "<tr><td>latitude</td>\n",
       "<td>113977.8281250</td>\n",
       "<td>0.2025047</td>\n",
       "<td>0.0374340</td></tr>\n",
       "<tr><td>source</td>\n",
       "<td>112570.2421875</td>\n",
       "<td>0.2000038</td>\n",
       "<td>0.0369717</td></tr>\n",
       "<tr><td>longitude</td>\n",
       "<td>103532.2734375</td>\n",
       "<td>0.1839460</td>\n",
       "<td>0.0340033</td></tr>\n",
       "<tr><td>gps_height</td>\n",
       "<td>100547.2968750</td>\n",
       "<td>0.1786426</td>\n",
       "<td>0.0330230</td></tr>\n",
       "<tr><td>population</td>\n",
       "<td>96622.3593750</td>\n",
       "<td>0.1716692</td>\n",
       "<td>0.0317339</td></tr>\n",
       "<tr><td>scheme_management</td>\n",
       "<td>76933.8203125</td>\n",
       "<td>0.1366885</td>\n",
       "<td>0.0252675</td></tr>\n",
       "<tr><td>basin</td>\n",
       "<td>75331.0468750</td>\n",
       "<td>0.1338408</td>\n",
       "<td>0.0247411</td></tr>\n",
       "<tr><td>amount_tsh</td>\n",
       "<td>72289.9375000</td>\n",
       "<td>0.1284377</td>\n",
       "<td>0.0237423</td></tr>\n",
       "<tr><td>management</td>\n",
       "<td>71971.6796875</td>\n",
       "<td>0.1278722</td>\n",
       "<td>0.0236378</td></tr>\n",
       "<tr><td>water_quality</td>\n",
       "<td>48144.8007812</td>\n",
       "<td>0.0855390</td>\n",
       "<td>0.0158123</td></tr>\n",
       "<tr><td>public_meeting</td>\n",
       "<td>30751.1093750</td>\n",
       "<td>0.0546356</td>\n",
       "<td>0.0100997</td></tr>\n",
       "<tr><td>permit</td>\n",
       "<td>26828.5996094</td>\n",
       "<td>0.0476664</td>\n",
       "<td>0.0088114</td></tr></table></div>"
      ],
      "text/plain": [
       "variable           relative_importance    scaled_importance    percentage\n",
       "-----------------  ---------------------  -------------------  ------------\n",
       "quantity           562840                 1                    0.184855\n",
       "funder             309903                 0.550605             0.101782\n",
       "extraction_type    299910                 0.532852             0.0985002\n",
       "installer          253254                 0.449958             0.0831769\n",
       "waterpoint_type    245694                 0.436525             0.0806939\n",
       "region             154929                 0.275263             0.0508837\n",
       "payment            150112                 0.266704             0.0493016\n",
       "construction_year  138625                 0.246295             0.0455288\n",
       "latitude           113978                 0.202505             0.037434\n",
       "source             112570                 0.200004             0.0369717\n",
       "longitude          103532                 0.183946             0.0340033\n",
       "gps_height         100547                 0.178643             0.033023\n",
       "population         96622.4                0.171669             0.0317339\n",
       "scheme_management  76933.8                0.136688             0.0252675\n",
       "basin              75331                  0.133841             0.0247411\n",
       "amount_tsh         72289.9                0.128438             0.0237423\n",
       "management         71971.7                0.127872             0.0236378\n",
       "water_quality      48144.8                0.085539             0.0158123\n",
       "public_meeting     30751.1                0.0546356            0.0100997\n",
       "permit             26828.6                0.0476664            0.00881137"
      ]
     },
     "metadata": {},
     "output_type": "display_data"
    },
    {
     "data": {
      "text/plain": [
       "<bound method ModelBase.varimp of >"
      ]
     },
     "execution_count": 54,
     "metadata": {},
     "output_type": "execute_result"
    }
   ],
   "source": [
    "rf_fit5_2.varimp"
   ]
  },
  {
   "cell_type": "code",
   "execution_count": 66,
   "metadata": {
    "collapsed": false
   },
   "outputs": [
    {
     "name": "stdout",
     "output_type": "stream",
     "text": [
      "\n",
      "ModelMetricsMultinomial: drf\n",
      "** Reported on test data. **\n",
      "\n",
      "MSE: 0.10096282407181895\n",
      "RMSE: 0.31774647767020003\n",
      "LogLoss: 0.3254260643276188\n",
      "Mean Per-Class Error: 0.24035689411476455\n",
      "Confusion Matrix: vertical: actual; across: predicted\n",
      "\n"
     ]
    },
    {
     "data": {
      "text/html": [
       "<div style=\"overflow:auto\"><table style=\"width:50%\"><tr><td><b>functional</b></td>\n",
       "<td><b>functional needs repair</b></td>\n",
       "<td><b>non functional</b></td>\n",
       "<td><b>Error</b></td>\n",
       "<td><b>Rate</b></td></tr>\n",
       "<tr><td>4634.0</td>\n",
       "<td>24.0</td>\n",
       "<td>128.0</td>\n",
       "<td>0.0317593</td>\n",
       "<td>152 / 4,786</td></tr>\n",
       "<tr><td>279.0</td>\n",
       "<td>305.0</td>\n",
       "<td>55.0</td>\n",
       "<td>0.5226917</td>\n",
       "<td>334 / 639</td></tr>\n",
       "<tr><td>579.0</td>\n",
       "<td>12.0</td>\n",
       "<td>2956.0</td>\n",
       "<td>0.1666197</td>\n",
       "<td>591 / 3,547</td></tr>\n",
       "<tr><td>5492.0</td>\n",
       "<td>341.0</td>\n",
       "<td>3139.0</td>\n",
       "<td>0.1200401</td>\n",
       "<td>1,077 / 8,972</td></tr></table></div>"
      ],
      "text/plain": [
       "functional    functional needs repair    non functional    Error      Rate\n",
       "------------  -------------------------  ----------------  ---------  -------------\n",
       "4634          24                         128               0.0317593  152 / 4,786\n",
       "279           305                        55                0.522692   334 / 639\n",
       "579           12                         2956              0.16662    591 / 3,547\n",
       "5492          341                        3139              0.12004    1,077 / 8,972"
      ]
     },
     "metadata": {},
     "output_type": "display_data"
    },
    {
     "name": "stdout",
     "output_type": "stream",
     "text": [
      "Top-3 Hit Ratios: \n"
     ]
    },
    {
     "data": {
      "text/html": [
       "<div style=\"overflow:auto\"><table style=\"width:50%\"><tr><td><b>k</b></td>\n",
       "<td><b>hit_ratio</b></td></tr>\n",
       "<tr><td>1</td>\n",
       "<td>0.8799599</td></tr>\n",
       "<tr><td>2</td>\n",
       "<td>0.9862907</td></tr>\n",
       "<tr><td>3</td>\n",
       "<td>1.0</td></tr></table></div>"
      ],
      "text/plain": [
       "k    hit_ratio\n",
       "---  -----------\n",
       "1    0.87996\n",
       "2    0.986291\n",
       "3    1"
      ]
     },
     "metadata": {},
     "output_type": "display_data"
    },
    {
     "data": {
      "text/plain": []
     },
     "execution_count": 66,
     "metadata": {},
     "output_type": "execute_result"
    }
   ],
   "source": [
    "rf_perf5 # 최종결과 0.8011"
   ]
  },
  {
   "cell_type": "code",
   "execution_count": 97,
   "metadata": {
    "collapsed": false
   },
   "outputs": [
    {
     "name": "stdout",
     "output_type": "stream",
     "text": [
      "\n",
      "ModelMetricsMultinomial: drf\n",
      "** Reported on test data. **\n",
      "\n",
      "MSE: 0.10078811497308289\n",
      "RMSE: 0.317471439617933\n",
      "LogLoss: 0.3254269578886835\n",
      "Mean Per-Class Error: 0.24214701759316717\n",
      "Confusion Matrix: vertical: actual; across: predicted\n",
      "\n"
     ]
    },
    {
     "data": {
      "text/html": [
       "<div style=\"overflow:auto\"><table style=\"width:50%\"><tr><td><b>functional</b></td>\n",
       "<td><b>functional needs repair</b></td>\n",
       "<td><b>non functional</b></td>\n",
       "<td><b>Error</b></td>\n",
       "<td><b>Rate</b></td></tr>\n",
       "<tr><td>4639.0</td>\n",
       "<td>25.0</td>\n",
       "<td>122.0</td>\n",
       "<td>0.0307146</td>\n",
       "<td>147 / 4,786</td></tr>\n",
       "<tr><td>285.0</td>\n",
       "<td>300.0</td>\n",
       "<td>54.0</td>\n",
       "<td>0.5305164</td>\n",
       "<td>339 / 639</td></tr>\n",
       "<tr><td>575.0</td>\n",
       "<td>11.0</td>\n",
       "<td>2961.0</td>\n",
       "<td>0.1652100</td>\n",
       "<td>586 / 3,547</td></tr>\n",
       "<tr><td>5499.0</td>\n",
       "<td>336.0</td>\n",
       "<td>3137.0</td>\n",
       "<td>0.1194828</td>\n",
       "<td>1,072 / 8,972</td></tr></table></div>"
      ],
      "text/plain": [
       "functional    functional needs repair    non functional    Error      Rate\n",
       "------------  -------------------------  ----------------  ---------  -------------\n",
       "4639          25                         122               0.0307146  147 / 4,786\n",
       "285           300                        54                0.530516   339 / 639\n",
       "575           11                         2961              0.16521    586 / 3,547\n",
       "5499          336                        3137              0.119483   1,072 / 8,972"
      ]
     },
     "metadata": {},
     "output_type": "display_data"
    },
    {
     "name": "stdout",
     "output_type": "stream",
     "text": [
      "Top-3 Hit Ratios: \n"
     ]
    },
    {
     "data": {
      "text/html": [
       "<div style=\"overflow:auto\"><table style=\"width:50%\"><tr><td><b>k</b></td>\n",
       "<td><b>hit_ratio</b></td></tr>\n",
       "<tr><td>1</td>\n",
       "<td>0.8805172</td></tr>\n",
       "<tr><td>2</td>\n",
       "<td>0.9860678</td></tr>\n",
       "<tr><td>3</td>\n",
       "<td>1.0</td></tr></table></div>"
      ],
      "text/plain": [
       "k    hit_ratio\n",
       "---  -----------\n",
       "1    0.880517\n",
       "2    0.986068\n",
       "3    1"
      ]
     },
     "metadata": {},
     "output_type": "display_data"
    },
    {
     "data": {
      "text/plain": []
     },
     "execution_count": 97,
     "metadata": {},
     "output_type": "execute_result"
    }
   ],
   "source": [
    "rf_perf5_1 #최종 0.8028"
   ]
  },
  {
   "cell_type": "code",
   "execution_count": 103,
   "metadata": {
    "collapsed": false
   },
   "outputs": [
    {
     "name": "stdout",
     "output_type": "stream",
     "text": [
      "\n",
      "ModelMetricsMultinomial: drf\n",
      "** Reported on test data. **\n",
      "\n",
      "MSE: 0.10125625533774274\n",
      "RMSE: 0.3182078806971046\n",
      "LogLoss: 0.32719490423016934\n",
      "Mean Per-Class Error: 0.2394514755327893\n",
      "Confusion Matrix: vertical: actual; across: predicted\n",
      "\n"
     ]
    },
    {
     "data": {
      "text/html": [
       "<div style=\"overflow:auto\"><table style=\"width:50%\"><tr><td><b>functional</b></td>\n",
       "<td><b>functional needs repair</b></td>\n",
       "<td><b>non functional</b></td>\n",
       "<td><b>Error</b></td>\n",
       "<td><b>Rate</b></td></tr>\n",
       "<tr><td>4647.0</td>\n",
       "<td>23.0</td>\n",
       "<td>116.0</td>\n",
       "<td>0.0290430</td>\n",
       "<td>139 / 4,786</td></tr>\n",
       "<tr><td>285.0</td>\n",
       "<td>305.0</td>\n",
       "<td>49.0</td>\n",
       "<td>0.5226917</td>\n",
       "<td>334 / 639</td></tr>\n",
       "<tr><td>580.0</td>\n",
       "<td>11.0</td>\n",
       "<td>2956.0</td>\n",
       "<td>0.1666197</td>\n",
       "<td>591 / 3,547</td></tr>\n",
       "<tr><td>5512.0</td>\n",
       "<td>339.0</td>\n",
       "<td>3121.0</td>\n",
       "<td>0.1185912</td>\n",
       "<td>1,064 / 8,972</td></tr></table></div>"
      ],
      "text/plain": [
       "functional    functional needs repair    non functional    Error     Rate\n",
       "------------  -------------------------  ----------------  --------  -------------\n",
       "4647          23                         116               0.029043  139 / 4,786\n",
       "285           305                        49                0.522692  334 / 639\n",
       "580           11                         2956              0.16662   591 / 3,547\n",
       "5512          339                        3121              0.118591  1,064 / 8,972"
      ]
     },
     "metadata": {},
     "output_type": "display_data"
    },
    {
     "name": "stdout",
     "output_type": "stream",
     "text": [
      "Top-3 Hit Ratios: \n"
     ]
    },
    {
     "data": {
      "text/html": [
       "<div style=\"overflow:auto\"><table style=\"width:50%\"><tr><td><b>k</b></td>\n",
       "<td><b>hit_ratio</b></td></tr>\n",
       "<tr><td>1</td>\n",
       "<td>0.8814088</td></tr>\n",
       "<tr><td>2</td>\n",
       "<td>0.9867365</td></tr>\n",
       "<tr><td>3</td>\n",
       "<td>0.9999999</td></tr></table></div>"
      ],
      "text/plain": [
       "k    hit_ratio\n",
       "---  -----------\n",
       "1    0.881409\n",
       "2    0.986737\n",
       "3    1"
      ]
     },
     "metadata": {},
     "output_type": "display_data"
    },
    {
     "data": {
      "text/plain": []
     },
     "execution_count": 103,
     "metadata": {},
     "output_type": "execute_result"
    }
   ],
   "source": [
    "rf_perf5_2 # 최종0.8026"
   ]
  },
  {
   "cell_type": "markdown",
   "metadata": {},
   "source": [
    "# Prediction"
   ]
  },
  {
   "cell_type": "code",
   "execution_count": 129,
   "metadata": {
    "collapsed": false,
    "scrolled": true
   },
   "outputs": [
    {
     "name": "stdout",
     "output_type": "stream",
     "text": [
      "deeplearning prediction progress: |███████████████████████████████████████| 100%\n"
     ]
    }
   ],
   "source": [
    "prediction=dl_fit1.predict(test_data=finaltest)"
   ]
  },
  {
   "cell_type": "code",
   "execution_count": 130,
   "metadata": {
    "collapsed": false
   },
   "outputs": [
    {
     "data": {
      "text/plain": [
       "(14850, 1)"
      ]
     },
     "execution_count": 130,
     "metadata": {},
     "output_type": "execute_result"
    }
   ],
   "source": [
    "prediction[:1].shape"
   ]
  },
  {
   "cell_type": "markdown",
   "metadata": {},
   "source": [
    "# how to submit"
   ]
  },
  {
   "cell_type": "code",
   "execution_count": 131,
   "metadata": {
    "collapsed": false
   },
   "outputs": [],
   "source": [
    "submission = pd.concat((h2o.as_list(submit_id), h2o.as_list(prediction[:1])),axis=1, ignore_index=True)\n",
    "\n",
    "submission.columns = ['id', 'status_group']\n",
    "\n",
    "submission = submission.set_index(['id', 'status_group'])\n",
    "\n",
    "submission.to_csv('h2o_py_dlfit1.csv')"
   ]
  },
  {
   "cell_type": "code",
   "execution_count": 19,
   "metadata": {
    "collapsed": false
   },
   "outputs": [],
   "source": [
    "    from h2o.estimators.gbm import H2OGradientBoostingEstimator"
   ]
  },
  {
   "cell_type": "code",
   "execution_count": 26,
   "metadata": {
    "collapsed": false
   },
   "outputs": [
    {
     "name": "stdout",
     "output_type": "stream",
     "text": [
      "gbm Model Build progress: |███████████████████████████████████████████████| 100%\n"
     ]
    }
   ],
   "source": [
    "gbm_fit1 = H2OGradientBoostingEstimator(model_id='gbm_fit1', seed=1)\n",
    "gbm_fit1.train(x=x, y=y, training_frame=train)"
   ]
  },
  {
   "cell_type": "code",
   "execution_count": 20,
   "metadata": {
    "collapsed": false
   },
   "outputs": [
    {
     "name": "stdout",
     "output_type": "stream",
     "text": [
      "gbm Model Build progress: |███████████████████████████████████████████████| 100%\n"
     ]
    }
   ],
   "source": [
    "gbm_fit2 = H2OGradientBoostingEstimator(model_id='gbm_fit2',ntrees=200,seed=1)\n",
    "gbm_fit2.train(x=x, y=y, training_frame=train)"
   ]
  },
  {
   "cell_type": "code",
   "execution_count": 24,
   "metadata": {
    "collapsed": false
   },
   "outputs": [
    {
     "name": "stdout",
     "output_type": "stream",
     "text": [
      "gbm Model Build progress: |███████████████████████████████████████████████| 100%\n"
     ]
    }
   ],
   "source": [
    "gbm_fit5 = H2OGradientBoostingEstimator(model_id='gbm_fit5', ntrees=500, seed=1)\n",
    "gbm_fit5.train(x=x, y=y, training_frame=train)"
   ]
  },
  {
   "cell_type": "markdown",
   "metadata": {
    "collapsed": false
   },
   "source": [
    "\n",
    "\n",
    "gbm_fit5_1 = H2OGradientBoostingEstimator(model_id='gbm_fit3', \n",
    "                                        ntrees=500, \n",
    "                                        score_tree_interval=5,     #used for early stopping\n",
    "                                        stopping_rounds=3,         #used for early stopping\n",
    "                                         #used for early stopping\n",
    "                                        stopping_tolerance=0.0005, #used for early stopping\n",
    "                                        seed=1)\n",
    "\n",
    "\n",
    "gbm_fit3.train(x=x, y=y, training_frame=train, validation_frame=valid)"
   ]
  },
  {
   "cell_type": "code",
   "execution_count": 27,
   "metadata": {
    "collapsed": false
   },
   "outputs": [],
   "source": [
    "gbm_perf1 = gbm_fit1.model_performance(test)\n",
    "gbm_perf2 = gbm_fit2.model_performance(test)\n",
    "gbm_perf5 = gbm_fit5.model_performance(test)\n"
   ]
  },
  {
   "cell_type": "code",
   "execution_count": 28,
   "metadata": {
    "collapsed": false
   },
   "outputs": [
    {
     "name": "stdout",
     "output_type": "stream",
     "text": [
      "\n",
      "ModelMetricsMultinomial: gbm\n",
      "** Reported on test data. **\n",
      "\n",
      "MSE: 0.18647213808306104\n",
      "RMSE: 0.43182419812125056\n",
      "LogLoss: 0.5616226423060752\n",
      "Mean Per-Class Error: 0.4096996833871021\n",
      "Confusion Matrix: vertical: actual; across: predicted\n",
      "\n"
     ]
    },
    {
     "data": {
      "text/html": [
       "<div style=\"overflow:auto\"><table style=\"width:50%\"><tr><td><b>functional</b></td>\n",
       "<td><b>functional needs repair</b></td>\n",
       "<td><b>non functional</b></td>\n",
       "<td><b>Error</b></td>\n",
       "<td><b>Rate</b></td></tr>\n",
       "<tr><td>4382.0</td>\n",
       "<td>49.0</td>\n",
       "<td>355.0</td>\n",
       "<td>0.0844129</td>\n",
       "<td>404 / 4,786</td></tr>\n",
       "<tr><td>425.0</td>\n",
       "<td>114.0</td>\n",
       "<td>100.0</td>\n",
       "<td>0.8215962</td>\n",
       "<td>525 / 639</td></tr>\n",
       "<tr><td>1125.0</td>\n",
       "<td>21.0</td>\n",
       "<td>2401.0</td>\n",
       "<td>0.3230899</td>\n",
       "<td>1,146 / 3,547</td></tr>\n",
       "<tr><td>5932.0</td>\n",
       "<td>184.0</td>\n",
       "<td>2856.0</td>\n",
       "<td>0.2312751</td>\n",
       "<td>2,075 / 8,972</td></tr></table></div>"
      ],
      "text/plain": [
       "functional    functional needs repair    non functional    Error      Rate\n",
       "------------  -------------------------  ----------------  ---------  -------------\n",
       "4382          49                         355               0.0844129  404 / 4,786\n",
       "425           114                        100               0.821596   525 / 639\n",
       "1125          21                         2401              0.32309    1,146 / 3,547\n",
       "5932          184                        2856              0.231275   2,075 / 8,972"
      ]
     },
     "metadata": {},
     "output_type": "display_data"
    },
    {
     "name": "stdout",
     "output_type": "stream",
     "text": [
      "Top-3 Hit Ratios: \n"
     ]
    },
    {
     "data": {
      "text/html": [
       "<div style=\"overflow:auto\"><table style=\"width:50%\"><tr><td><b>k</b></td>\n",
       "<td><b>hit_ratio</b></td></tr>\n",
       "<tr><td>1</td>\n",
       "<td>0.7687249</td></tr>\n",
       "<tr><td>2</td>\n",
       "<td>0.9506242</td></tr>\n",
       "<tr><td>3</td>\n",
       "<td>1.0</td></tr></table></div>"
      ],
      "text/plain": [
       "k    hit_ratio\n",
       "---  -----------\n",
       "1    0.768725\n",
       "2    0.950624\n",
       "3    1"
      ]
     },
     "metadata": {},
     "output_type": "display_data"
    },
    {
     "name": "stdout",
     "output_type": "stream",
     "text": [
      "\n"
     ]
    }
   ],
   "source": [
    "print(gbm_perf1)\n"
   ]
  },
  {
   "cell_type": "code",
   "execution_count": 29,
   "metadata": {
    "collapsed": false
   },
   "outputs": [
    {
     "name": "stdout",
     "output_type": "stream",
     "text": [
      "\n",
      "ModelMetricsMultinomial: gbm\n",
      "** Reported on test data. **\n",
      "\n",
      "MSE: 0.16863521283825125\n",
      "RMSE: 0.41065217987763225\n",
      "LogLoss: 0.5175079594290852\n",
      "Mean Per-Class Error: 0.3736756466799503\n",
      "Confusion Matrix: vertical: actual; across: predicted\n",
      "\n"
     ]
    },
    {
     "data": {
      "text/html": [
       "<div style=\"overflow:auto\"><table style=\"width:50%\"><tr><td><b>functional</b></td>\n",
       "<td><b>functional needs repair</b></td>\n",
       "<td><b>non functional</b></td>\n",
       "<td><b>Error</b></td>\n",
       "<td><b>Rate</b></td></tr>\n",
       "<tr><td>4349.0</td>\n",
       "<td>81.0</td>\n",
       "<td>356.0</td>\n",
       "<td>0.0913080</td>\n",
       "<td>437 / 4,786</td></tr>\n",
       "<tr><td>379.0</td>\n",
       "<td>159.0</td>\n",
       "<td>101.0</td>\n",
       "<td>0.7511737</td>\n",
       "<td>480 / 639</td></tr>\n",
       "<tr><td>952.0</td>\n",
       "<td>36.0</td>\n",
       "<td>2559.0</td>\n",
       "<td>0.2785452</td>\n",
       "<td>988 / 3,547</td></tr>\n",
       "<tr><td>5680.0</td>\n",
       "<td>276.0</td>\n",
       "<td>3016.0</td>\n",
       "<td>0.2123272</td>\n",
       "<td>1,905 / 8,972</td></tr></table></div>"
      ],
      "text/plain": [
       "functional    functional needs repair    non functional    Error     Rate\n",
       "------------  -------------------------  ----------------  --------  -------------\n",
       "4349          81                         356               0.091308  437 / 4,786\n",
       "379           159                        101               0.751174  480 / 639\n",
       "952           36                         2559              0.278545  988 / 3,547\n",
       "5680          276                        3016              0.212327  1,905 / 8,972"
      ]
     },
     "metadata": {},
     "output_type": "display_data"
    },
    {
     "name": "stdout",
     "output_type": "stream",
     "text": [
      "Top-3 Hit Ratios: \n"
     ]
    },
    {
     "data": {
      "text/html": [
       "<div style=\"overflow:auto\"><table style=\"width:50%\"><tr><td><b>k</b></td>\n",
       "<td><b>hit_ratio</b></td></tr>\n",
       "<tr><td>1</td>\n",
       "<td>0.7876728</td></tr>\n",
       "<tr><td>2</td>\n",
       "<td>0.9557512</td></tr>\n",
       "<tr><td>3</td>\n",
       "<td>1.0</td></tr></table></div>"
      ],
      "text/plain": [
       "k    hit_ratio\n",
       "---  -----------\n",
       "1    0.787673\n",
       "2    0.955751\n",
       "3    1"
      ]
     },
     "metadata": {},
     "output_type": "display_data"
    },
    {
     "data": {
      "text/plain": []
     },
     "execution_count": 29,
     "metadata": {},
     "output_type": "execute_result"
    }
   ],
   "source": [
    "gbm_perf2 #최종 0.7911"
   ]
  },
  {
   "cell_type": "code",
   "execution_count": 115,
   "metadata": {
    "collapsed": false
   },
   "outputs": [
    {
     "data": {
      "text/html": [
       "<div>\n",
       "<table border=\"1\" class=\"dataframe\">\n",
       "  <thead>\n",
       "    <tr style=\"text-align: right;\">\n",
       "      <th></th>\n",
       "      <th></th>\n",
       "      <th>timestamp</th>\n",
       "      <th>duration</th>\n",
       "      <th>number_of_trees</th>\n",
       "      <th>training_rmse</th>\n",
       "      <th>training_logloss</th>\n",
       "      <th>training_classification_error</th>\n",
       "    </tr>\n",
       "  </thead>\n",
       "  <tbody>\n",
       "    <tr>\n",
       "      <th>0</th>\n",
       "      <td></td>\n",
       "      <td>2017-05-17 11:55:07</td>\n",
       "      <td>0.001 sec</td>\n",
       "      <td>0.0</td>\n",
       "      <td>0.666667</td>\n",
       "      <td>1.098612</td>\n",
       "      <td>0.553761</td>\n",
       "    </tr>\n",
       "    <tr>\n",
       "      <th>1</th>\n",
       "      <td></td>\n",
       "      <td>2017-05-17 11:55:07</td>\n",
       "      <td>0.080 sec</td>\n",
       "      <td>1.0</td>\n",
       "      <td>0.638078</td>\n",
       "      <td>1.017633</td>\n",
       "      <td>0.271893</td>\n",
       "    </tr>\n",
       "    <tr>\n",
       "      <th>2</th>\n",
       "      <td></td>\n",
       "      <td>2017-05-17 11:55:07</td>\n",
       "      <td>0.171 sec</td>\n",
       "      <td>2.0</td>\n",
       "      <td>0.613168</td>\n",
       "      <td>0.953530</td>\n",
       "      <td>0.264873</td>\n",
       "    </tr>\n",
       "    <tr>\n",
       "      <th>3</th>\n",
       "      <td></td>\n",
       "      <td>2017-05-17 11:55:07</td>\n",
       "      <td>0.252 sec</td>\n",
       "      <td>3.0</td>\n",
       "      <td>0.591262</td>\n",
       "      <td>0.900955</td>\n",
       "      <td>0.261244</td>\n",
       "    </tr>\n",
       "    <tr>\n",
       "      <th>4</th>\n",
       "      <td></td>\n",
       "      <td>2017-05-17 11:55:07</td>\n",
       "      <td>0.316 sec</td>\n",
       "      <td>4.0</td>\n",
       "      <td>0.572305</td>\n",
       "      <td>0.857728</td>\n",
       "      <td>0.261508</td>\n",
       "    </tr>\n",
       "    <tr>\n",
       "      <th>5</th>\n",
       "      <td></td>\n",
       "      <td>2017-05-17 11:55:07</td>\n",
       "      <td>0.382 sec</td>\n",
       "      <td>5.0</td>\n",
       "      <td>0.555570</td>\n",
       "      <td>0.820993</td>\n",
       "      <td>0.260835</td>\n",
       "    </tr>\n",
       "    <tr>\n",
       "      <th>6</th>\n",
       "      <td></td>\n",
       "      <td>2017-05-17 11:55:07</td>\n",
       "      <td>0.443 sec</td>\n",
       "      <td>6.0</td>\n",
       "      <td>0.541037</td>\n",
       "      <td>0.789735</td>\n",
       "      <td>0.258335</td>\n",
       "    </tr>\n",
       "    <tr>\n",
       "      <th>7</th>\n",
       "      <td></td>\n",
       "      <td>2017-05-17 11:55:07</td>\n",
       "      <td>0.504 sec</td>\n",
       "      <td>7.0</td>\n",
       "      <td>0.528240</td>\n",
       "      <td>0.762764</td>\n",
       "      <td>0.257037</td>\n",
       "    </tr>\n",
       "    <tr>\n",
       "      <th>8</th>\n",
       "      <td></td>\n",
       "      <td>2017-05-17 11:55:07</td>\n",
       "      <td>0.565 sec</td>\n",
       "      <td>8.0</td>\n",
       "      <td>0.517563</td>\n",
       "      <td>0.740524</td>\n",
       "      <td>0.256076</td>\n",
       "    </tr>\n",
       "    <tr>\n",
       "      <th>9</th>\n",
       "      <td></td>\n",
       "      <td>2017-05-17 11:55:07</td>\n",
       "      <td>0.625 sec</td>\n",
       "      <td>9.0</td>\n",
       "      <td>0.508025</td>\n",
       "      <td>0.720754</td>\n",
       "      <td>0.252854</td>\n",
       "    </tr>\n",
       "    <tr>\n",
       "      <th>10</th>\n",
       "      <td></td>\n",
       "      <td>2017-05-17 11:55:07</td>\n",
       "      <td>0.688 sec</td>\n",
       "      <td>10.0</td>\n",
       "      <td>0.499786</td>\n",
       "      <td>0.703833</td>\n",
       "      <td>0.252830</td>\n",
       "    </tr>\n",
       "    <tr>\n",
       "      <th>11</th>\n",
       "      <td></td>\n",
       "      <td>2017-05-17 11:55:08</td>\n",
       "      <td>0.750 sec</td>\n",
       "      <td>11.0</td>\n",
       "      <td>0.492595</td>\n",
       "      <td>0.688888</td>\n",
       "      <td>0.249129</td>\n",
       "    </tr>\n",
       "    <tr>\n",
       "      <th>12</th>\n",
       "      <td></td>\n",
       "      <td>2017-05-17 11:55:08</td>\n",
       "      <td>0.810 sec</td>\n",
       "      <td>12.0</td>\n",
       "      <td>0.485938</td>\n",
       "      <td>0.674980</td>\n",
       "      <td>0.247398</td>\n",
       "    </tr>\n",
       "    <tr>\n",
       "      <th>13</th>\n",
       "      <td></td>\n",
       "      <td>2017-05-17 11:55:08</td>\n",
       "      <td>0.876 sec</td>\n",
       "      <td>13.0</td>\n",
       "      <td>0.480166</td>\n",
       "      <td>0.662925</td>\n",
       "      <td>0.246004</td>\n",
       "    </tr>\n",
       "    <tr>\n",
       "      <th>14</th>\n",
       "      <td></td>\n",
       "      <td>2017-05-17 11:55:08</td>\n",
       "      <td>0.938 sec</td>\n",
       "      <td>14.0</td>\n",
       "      <td>0.474751</td>\n",
       "      <td>0.651617</td>\n",
       "      <td>0.243360</td>\n",
       "    </tr>\n",
       "    <tr>\n",
       "      <th>15</th>\n",
       "      <td></td>\n",
       "      <td>2017-05-17 11:55:08</td>\n",
       "      <td>0.998 sec</td>\n",
       "      <td>15.0</td>\n",
       "      <td>0.470304</td>\n",
       "      <td>0.642408</td>\n",
       "      <td>0.241845</td>\n",
       "    </tr>\n",
       "    <tr>\n",
       "      <th>16</th>\n",
       "      <td></td>\n",
       "      <td>2017-05-17 11:55:08</td>\n",
       "      <td>1.059 sec</td>\n",
       "      <td>16.0</td>\n",
       "      <td>0.466188</td>\n",
       "      <td>0.633739</td>\n",
       "      <td>0.242037</td>\n",
       "    </tr>\n",
       "    <tr>\n",
       "      <th>17</th>\n",
       "      <td></td>\n",
       "      <td>2017-05-17 11:55:08</td>\n",
       "      <td>1.121 sec</td>\n",
       "      <td>17.0</td>\n",
       "      <td>0.462844</td>\n",
       "      <td>0.626635</td>\n",
       "      <td>0.241388</td>\n",
       "    </tr>\n",
       "    <tr>\n",
       "      <th>18</th>\n",
       "      <td></td>\n",
       "      <td>2017-05-17 11:55:08</td>\n",
       "      <td>1.182 sec</td>\n",
       "      <td>18.0</td>\n",
       "      <td>0.459562</td>\n",
       "      <td>0.619649</td>\n",
       "      <td>0.239538</td>\n",
       "    </tr>\n",
       "    <tr>\n",
       "      <th>19</th>\n",
       "      <td></td>\n",
       "      <td>2017-05-17 11:55:08</td>\n",
       "      <td>1.244 sec</td>\n",
       "      <td>19.0</td>\n",
       "      <td>0.456287</td>\n",
       "      <td>0.612791</td>\n",
       "      <td>0.237687</td>\n",
       "    </tr>\n",
       "    <tr>\n",
       "      <th>20</th>\n",
       "      <td></td>\n",
       "      <td>2017-05-17 11:55:08</td>\n",
       "      <td>1.306 sec</td>\n",
       "      <td>20.0</td>\n",
       "      <td>0.453588</td>\n",
       "      <td>0.607218</td>\n",
       "      <td>0.236340</td>\n",
       "    </tr>\n",
       "    <tr>\n",
       "      <th>21</th>\n",
       "      <td></td>\n",
       "      <td>2017-05-17 11:55:08</td>\n",
       "      <td>1.370 sec</td>\n",
       "      <td>21.0</td>\n",
       "      <td>0.450621</td>\n",
       "      <td>0.600973</td>\n",
       "      <td>0.233865</td>\n",
       "    </tr>\n",
       "    <tr>\n",
       "      <th>22</th>\n",
       "      <td></td>\n",
       "      <td>2017-05-17 11:55:08</td>\n",
       "      <td>1.430 sec</td>\n",
       "      <td>22.0</td>\n",
       "      <td>0.448456</td>\n",
       "      <td>0.596274</td>\n",
       "      <td>0.233240</td>\n",
       "    </tr>\n",
       "    <tr>\n",
       "      <th>23</th>\n",
       "      <td></td>\n",
       "      <td>2017-05-17 11:55:08</td>\n",
       "      <td>1.495 sec</td>\n",
       "      <td>23.0</td>\n",
       "      <td>0.446131</td>\n",
       "      <td>0.591592</td>\n",
       "      <td>0.231605</td>\n",
       "    </tr>\n",
       "    <tr>\n",
       "      <th>24</th>\n",
       "      <td></td>\n",
       "      <td>2017-05-17 11:55:08</td>\n",
       "      <td>1.556 sec</td>\n",
       "      <td>24.0</td>\n",
       "      <td>0.444147</td>\n",
       "      <td>0.587208</td>\n",
       "      <td>0.230283</td>\n",
       "    </tr>\n",
       "    <tr>\n",
       "      <th>25</th>\n",
       "      <td></td>\n",
       "      <td>2017-05-17 11:55:08</td>\n",
       "      <td>1.616 sec</td>\n",
       "      <td>25.0</td>\n",
       "      <td>0.442398</td>\n",
       "      <td>0.583401</td>\n",
       "      <td>0.229658</td>\n",
       "    </tr>\n",
       "    <tr>\n",
       "      <th>26</th>\n",
       "      <td></td>\n",
       "      <td>2017-05-17 11:55:08</td>\n",
       "      <td>1.678 sec</td>\n",
       "      <td>26.0</td>\n",
       "      <td>0.440636</td>\n",
       "      <td>0.579849</td>\n",
       "      <td>0.227903</td>\n",
       "    </tr>\n",
       "    <tr>\n",
       "      <th>27</th>\n",
       "      <td></td>\n",
       "      <td>2017-05-17 11:55:09</td>\n",
       "      <td>1.743 sec</td>\n",
       "      <td>27.0</td>\n",
       "      <td>0.439153</td>\n",
       "      <td>0.576620</td>\n",
       "      <td>0.227398</td>\n",
       "    </tr>\n",
       "    <tr>\n",
       "      <th>28</th>\n",
       "      <td></td>\n",
       "      <td>2017-05-17 11:55:09</td>\n",
       "      <td>1.804 sec</td>\n",
       "      <td>28.0</td>\n",
       "      <td>0.437390</td>\n",
       "      <td>0.572794</td>\n",
       "      <td>0.227278</td>\n",
       "    </tr>\n",
       "    <tr>\n",
       "      <th>29</th>\n",
       "      <td></td>\n",
       "      <td>2017-05-17 11:55:09</td>\n",
       "      <td>1.866 sec</td>\n",
       "      <td>29.0</td>\n",
       "      <td>0.436118</td>\n",
       "      <td>0.569938</td>\n",
       "      <td>0.226269</td>\n",
       "    </tr>\n",
       "    <tr>\n",
       "      <th>...</th>\n",
       "      <td>...</td>\n",
       "      <td>...</td>\n",
       "      <td>...</td>\n",
       "      <td>...</td>\n",
       "      <td>...</td>\n",
       "      <td>...</td>\n",
       "      <td>...</td>\n",
       "    </tr>\n",
       "    <tr>\n",
       "      <th>39</th>\n",
       "      <td></td>\n",
       "      <td>2017-05-17 11:55:09</td>\n",
       "      <td>2.478 sec</td>\n",
       "      <td>39.0</td>\n",
       "      <td>0.425317</td>\n",
       "      <td>0.546627</td>\n",
       "      <td>0.219250</td>\n",
       "    </tr>\n",
       "    <tr>\n",
       "      <th>40</th>\n",
       "      <td></td>\n",
       "      <td>2017-05-17 11:55:09</td>\n",
       "      <td>2.540 sec</td>\n",
       "      <td>40.0</td>\n",
       "      <td>0.424437</td>\n",
       "      <td>0.544725</td>\n",
       "      <td>0.217976</td>\n",
       "    </tr>\n",
       "    <tr>\n",
       "      <th>41</th>\n",
       "      <td></td>\n",
       "      <td>2017-05-17 11:55:09</td>\n",
       "      <td>2.601 sec</td>\n",
       "      <td>41.0</td>\n",
       "      <td>0.423790</td>\n",
       "      <td>0.543123</td>\n",
       "      <td>0.216581</td>\n",
       "    </tr>\n",
       "    <tr>\n",
       "      <th>42</th>\n",
       "      <td></td>\n",
       "      <td>2017-05-17 11:55:09</td>\n",
       "      <td>2.665 sec</td>\n",
       "      <td>42.0</td>\n",
       "      <td>0.423044</td>\n",
       "      <td>0.541561</td>\n",
       "      <td>0.216437</td>\n",
       "    </tr>\n",
       "    <tr>\n",
       "      <th>43</th>\n",
       "      <td></td>\n",
       "      <td>2017-05-17 11:55:09</td>\n",
       "      <td>2.727 sec</td>\n",
       "      <td>43.0</td>\n",
       "      <td>0.422168</td>\n",
       "      <td>0.539636</td>\n",
       "      <td>0.215187</td>\n",
       "    </tr>\n",
       "    <tr>\n",
       "      <th>44</th>\n",
       "      <td></td>\n",
       "      <td>2017-05-17 11:55:10</td>\n",
       "      <td>2.789 sec</td>\n",
       "      <td>44.0</td>\n",
       "      <td>0.421486</td>\n",
       "      <td>0.538115</td>\n",
       "      <td>0.214346</td>\n",
       "    </tr>\n",
       "    <tr>\n",
       "      <th>45</th>\n",
       "      <td></td>\n",
       "      <td>2017-05-17 11:55:10</td>\n",
       "      <td>2.852 sec</td>\n",
       "      <td>45.0</td>\n",
       "      <td>0.420818</td>\n",
       "      <td>0.536586</td>\n",
       "      <td>0.213745</td>\n",
       "    </tr>\n",
       "    <tr>\n",
       "      <th>46</th>\n",
       "      <td></td>\n",
       "      <td>2017-05-17 11:55:10</td>\n",
       "      <td>2.913 sec</td>\n",
       "      <td>46.0</td>\n",
       "      <td>0.420160</td>\n",
       "      <td>0.535123</td>\n",
       "      <td>0.212783</td>\n",
       "    </tr>\n",
       "    <tr>\n",
       "      <th>47</th>\n",
       "      <td></td>\n",
       "      <td>2017-05-17 11:55:10</td>\n",
       "      <td>2.974 sec</td>\n",
       "      <td>47.0</td>\n",
       "      <td>0.419642</td>\n",
       "      <td>0.534043</td>\n",
       "      <td>0.212759</td>\n",
       "    </tr>\n",
       "    <tr>\n",
       "      <th>48</th>\n",
       "      <td></td>\n",
       "      <td>2017-05-17 11:55:10</td>\n",
       "      <td>3.035 sec</td>\n",
       "      <td>48.0</td>\n",
       "      <td>0.418917</td>\n",
       "      <td>0.532343</td>\n",
       "      <td>0.212038</td>\n",
       "    </tr>\n",
       "    <tr>\n",
       "      <th>49</th>\n",
       "      <td></td>\n",
       "      <td>2017-05-17 11:55:10</td>\n",
       "      <td>3.094 sec</td>\n",
       "      <td>49.0</td>\n",
       "      <td>0.418372</td>\n",
       "      <td>0.531102</td>\n",
       "      <td>0.212014</td>\n",
       "    </tr>\n",
       "    <tr>\n",
       "      <th>50</th>\n",
       "      <td></td>\n",
       "      <td>2017-05-17 11:55:10</td>\n",
       "      <td>3.155 sec</td>\n",
       "      <td>50.0</td>\n",
       "      <td>0.417820</td>\n",
       "      <td>0.529784</td>\n",
       "      <td>0.211029</td>\n",
       "    </tr>\n",
       "    <tr>\n",
       "      <th>51</th>\n",
       "      <td></td>\n",
       "      <td>2017-05-17 11:55:10</td>\n",
       "      <td>3.225 sec</td>\n",
       "      <td>51.0</td>\n",
       "      <td>0.417249</td>\n",
       "      <td>0.528505</td>\n",
       "      <td>0.211101</td>\n",
       "    </tr>\n",
       "    <tr>\n",
       "      <th>52</th>\n",
       "      <td></td>\n",
       "      <td>2017-05-17 11:55:10</td>\n",
       "      <td>3.287 sec</td>\n",
       "      <td>52.0</td>\n",
       "      <td>0.416794</td>\n",
       "      <td>0.527508</td>\n",
       "      <td>0.210788</td>\n",
       "    </tr>\n",
       "    <tr>\n",
       "      <th>53</th>\n",
       "      <td></td>\n",
       "      <td>2017-05-17 11:55:10</td>\n",
       "      <td>3.348 sec</td>\n",
       "      <td>53.0</td>\n",
       "      <td>0.416310</td>\n",
       "      <td>0.526438</td>\n",
       "      <td>0.210500</td>\n",
       "    </tr>\n",
       "    <tr>\n",
       "      <th>54</th>\n",
       "      <td></td>\n",
       "      <td>2017-05-17 11:55:10</td>\n",
       "      <td>3.408 sec</td>\n",
       "      <td>54.0</td>\n",
       "      <td>0.415680</td>\n",
       "      <td>0.525033</td>\n",
       "      <td>0.210163</td>\n",
       "    </tr>\n",
       "    <tr>\n",
       "      <th>55</th>\n",
       "      <td></td>\n",
       "      <td>2017-05-17 11:55:10</td>\n",
       "      <td>3.469 sec</td>\n",
       "      <td>55.0</td>\n",
       "      <td>0.415150</td>\n",
       "      <td>0.523639</td>\n",
       "      <td>0.209779</td>\n",
       "    </tr>\n",
       "    <tr>\n",
       "      <th>56</th>\n",
       "      <td></td>\n",
       "      <td>2017-05-17 11:55:10</td>\n",
       "      <td>3.531 sec</td>\n",
       "      <td>56.0</td>\n",
       "      <td>0.414663</td>\n",
       "      <td>0.522578</td>\n",
       "      <td>0.209394</td>\n",
       "    </tr>\n",
       "    <tr>\n",
       "      <th>57</th>\n",
       "      <td></td>\n",
       "      <td>2017-05-17 11:55:10</td>\n",
       "      <td>3.590 sec</td>\n",
       "      <td>57.0</td>\n",
       "      <td>0.414264</td>\n",
       "      <td>0.521632</td>\n",
       "      <td>0.208481</td>\n",
       "    </tr>\n",
       "    <tr>\n",
       "      <th>58</th>\n",
       "      <td></td>\n",
       "      <td>2017-05-17 11:55:10</td>\n",
       "      <td>3.651 sec</td>\n",
       "      <td>58.0</td>\n",
       "      <td>0.413816</td>\n",
       "      <td>0.520644</td>\n",
       "      <td>0.208144</td>\n",
       "    </tr>\n",
       "    <tr>\n",
       "      <th>59</th>\n",
       "      <td></td>\n",
       "      <td>2017-05-17 11:55:10</td>\n",
       "      <td>3.715 sec</td>\n",
       "      <td>59.0</td>\n",
       "      <td>0.413346</td>\n",
       "      <td>0.519612</td>\n",
       "      <td>0.207543</td>\n",
       "    </tr>\n",
       "    <tr>\n",
       "      <th>60</th>\n",
       "      <td></td>\n",
       "      <td>2017-05-17 11:55:11</td>\n",
       "      <td>3.779 sec</td>\n",
       "      <td>60.0</td>\n",
       "      <td>0.412751</td>\n",
       "      <td>0.518165</td>\n",
       "      <td>0.206870</td>\n",
       "    </tr>\n",
       "    <tr>\n",
       "      <th>61</th>\n",
       "      <td></td>\n",
       "      <td>2017-05-17 11:55:11</td>\n",
       "      <td>3.839 sec</td>\n",
       "      <td>61.0</td>\n",
       "      <td>0.412398</td>\n",
       "      <td>0.517339</td>\n",
       "      <td>0.206750</td>\n",
       "    </tr>\n",
       "    <tr>\n",
       "      <th>62</th>\n",
       "      <td></td>\n",
       "      <td>2017-05-17 11:55:11</td>\n",
       "      <td>3.899 sec</td>\n",
       "      <td>62.0</td>\n",
       "      <td>0.412056</td>\n",
       "      <td>0.516577</td>\n",
       "      <td>0.206269</td>\n",
       "    </tr>\n",
       "    <tr>\n",
       "      <th>63</th>\n",
       "      <td></td>\n",
       "      <td>2017-05-17 11:55:11</td>\n",
       "      <td>3.965 sec</td>\n",
       "      <td>63.0</td>\n",
       "      <td>0.411430</td>\n",
       "      <td>0.515166</td>\n",
       "      <td>0.205572</td>\n",
       "    </tr>\n",
       "    <tr>\n",
       "      <th>64</th>\n",
       "      <td></td>\n",
       "      <td>2017-05-17 11:55:15</td>\n",
       "      <td>8.007 sec</td>\n",
       "      <td>135.0</td>\n",
       "      <td>0.389741</td>\n",
       "      <td>0.466684</td>\n",
       "      <td>0.187015</td>\n",
       "    </tr>\n",
       "    <tr>\n",
       "      <th>65</th>\n",
       "      <td></td>\n",
       "      <td>2017-05-17 11:55:19</td>\n",
       "      <td>12.040 sec</td>\n",
       "      <td>207.0</td>\n",
       "      <td>0.374803</td>\n",
       "      <td>0.434876</td>\n",
       "      <td>0.170621</td>\n",
       "    </tr>\n",
       "    <tr>\n",
       "      <th>66</th>\n",
       "      <td></td>\n",
       "      <td>2017-05-17 11:55:23</td>\n",
       "      <td>16.068 sec</td>\n",
       "      <td>279.0</td>\n",
       "      <td>0.363521</td>\n",
       "      <td>0.411299</td>\n",
       "      <td>0.159588</td>\n",
       "    </tr>\n",
       "    <tr>\n",
       "      <th>67</th>\n",
       "      <td></td>\n",
       "      <td>2017-05-17 11:55:27</td>\n",
       "      <td>20.071 sec</td>\n",
       "      <td>365.0</td>\n",
       "      <td>0.353601</td>\n",
       "      <td>0.391432</td>\n",
       "      <td>0.149924</td>\n",
       "    </tr>\n",
       "    <tr>\n",
       "      <th>68</th>\n",
       "      <td></td>\n",
       "      <td>2017-05-17 11:55:30</td>\n",
       "      <td>22.987 sec</td>\n",
       "      <td>500.0</td>\n",
       "      <td>0.349979</td>\n",
       "      <td>0.384325</td>\n",
       "      <td>0.146679</td>\n",
       "    </tr>\n",
       "  </tbody>\n",
       "</table>\n",
       "<p>69 rows × 7 columns</p>\n",
       "</div>"
      ],
      "text/plain": [
       "                 timestamp    duration  number_of_trees  training_rmse  \\\n",
       "0      2017-05-17 11:55:07   0.001 sec              0.0       0.666667   \n",
       "1      2017-05-17 11:55:07   0.080 sec              1.0       0.638078   \n",
       "2      2017-05-17 11:55:07   0.171 sec              2.0       0.613168   \n",
       "3      2017-05-17 11:55:07   0.252 sec              3.0       0.591262   \n",
       "4      2017-05-17 11:55:07   0.316 sec              4.0       0.572305   \n",
       "5      2017-05-17 11:55:07   0.382 sec              5.0       0.555570   \n",
       "6      2017-05-17 11:55:07   0.443 sec              6.0       0.541037   \n",
       "7      2017-05-17 11:55:07   0.504 sec              7.0       0.528240   \n",
       "8      2017-05-17 11:55:07   0.565 sec              8.0       0.517563   \n",
       "9      2017-05-17 11:55:07   0.625 sec              9.0       0.508025   \n",
       "10     2017-05-17 11:55:07   0.688 sec             10.0       0.499786   \n",
       "11     2017-05-17 11:55:08   0.750 sec             11.0       0.492595   \n",
       "12     2017-05-17 11:55:08   0.810 sec             12.0       0.485938   \n",
       "13     2017-05-17 11:55:08   0.876 sec             13.0       0.480166   \n",
       "14     2017-05-17 11:55:08   0.938 sec             14.0       0.474751   \n",
       "15     2017-05-17 11:55:08   0.998 sec             15.0       0.470304   \n",
       "16     2017-05-17 11:55:08   1.059 sec             16.0       0.466188   \n",
       "17     2017-05-17 11:55:08   1.121 sec             17.0       0.462844   \n",
       "18     2017-05-17 11:55:08   1.182 sec             18.0       0.459562   \n",
       "19     2017-05-17 11:55:08   1.244 sec             19.0       0.456287   \n",
       "20     2017-05-17 11:55:08   1.306 sec             20.0       0.453588   \n",
       "21     2017-05-17 11:55:08   1.370 sec             21.0       0.450621   \n",
       "22     2017-05-17 11:55:08   1.430 sec             22.0       0.448456   \n",
       "23     2017-05-17 11:55:08   1.495 sec             23.0       0.446131   \n",
       "24     2017-05-17 11:55:08   1.556 sec             24.0       0.444147   \n",
       "25     2017-05-17 11:55:08   1.616 sec             25.0       0.442398   \n",
       "26     2017-05-17 11:55:08   1.678 sec             26.0       0.440636   \n",
       "27     2017-05-17 11:55:09   1.743 sec             27.0       0.439153   \n",
       "28     2017-05-17 11:55:09   1.804 sec             28.0       0.437390   \n",
       "29     2017-05-17 11:55:09   1.866 sec             29.0       0.436118   \n",
       ".. ..                  ...         ...              ...            ...   \n",
       "39     2017-05-17 11:55:09   2.478 sec             39.0       0.425317   \n",
       "40     2017-05-17 11:55:09   2.540 sec             40.0       0.424437   \n",
       "41     2017-05-17 11:55:09   2.601 sec             41.0       0.423790   \n",
       "42     2017-05-17 11:55:09   2.665 sec             42.0       0.423044   \n",
       "43     2017-05-17 11:55:09   2.727 sec             43.0       0.422168   \n",
       "44     2017-05-17 11:55:10   2.789 sec             44.0       0.421486   \n",
       "45     2017-05-17 11:55:10   2.852 sec             45.0       0.420818   \n",
       "46     2017-05-17 11:55:10   2.913 sec             46.0       0.420160   \n",
       "47     2017-05-17 11:55:10   2.974 sec             47.0       0.419642   \n",
       "48     2017-05-17 11:55:10   3.035 sec             48.0       0.418917   \n",
       "49     2017-05-17 11:55:10   3.094 sec             49.0       0.418372   \n",
       "50     2017-05-17 11:55:10   3.155 sec             50.0       0.417820   \n",
       "51     2017-05-17 11:55:10   3.225 sec             51.0       0.417249   \n",
       "52     2017-05-17 11:55:10   3.287 sec             52.0       0.416794   \n",
       "53     2017-05-17 11:55:10   3.348 sec             53.0       0.416310   \n",
       "54     2017-05-17 11:55:10   3.408 sec             54.0       0.415680   \n",
       "55     2017-05-17 11:55:10   3.469 sec             55.0       0.415150   \n",
       "56     2017-05-17 11:55:10   3.531 sec             56.0       0.414663   \n",
       "57     2017-05-17 11:55:10   3.590 sec             57.0       0.414264   \n",
       "58     2017-05-17 11:55:10   3.651 sec             58.0       0.413816   \n",
       "59     2017-05-17 11:55:10   3.715 sec             59.0       0.413346   \n",
       "60     2017-05-17 11:55:11   3.779 sec             60.0       0.412751   \n",
       "61     2017-05-17 11:55:11   3.839 sec             61.0       0.412398   \n",
       "62     2017-05-17 11:55:11   3.899 sec             62.0       0.412056   \n",
       "63     2017-05-17 11:55:11   3.965 sec             63.0       0.411430   \n",
       "64     2017-05-17 11:55:15   8.007 sec            135.0       0.389741   \n",
       "65     2017-05-17 11:55:19  12.040 sec            207.0       0.374803   \n",
       "66     2017-05-17 11:55:23  16.068 sec            279.0       0.363521   \n",
       "67     2017-05-17 11:55:27  20.071 sec            365.0       0.353601   \n",
       "68     2017-05-17 11:55:30  22.987 sec            500.0       0.349979   \n",
       "\n",
       "    training_logloss  training_classification_error  \n",
       "0           1.098612                       0.553761  \n",
       "1           1.017633                       0.271893  \n",
       "2           0.953530                       0.264873  \n",
       "3           0.900955                       0.261244  \n",
       "4           0.857728                       0.261508  \n",
       "5           0.820993                       0.260835  \n",
       "6           0.789735                       0.258335  \n",
       "7           0.762764                       0.257037  \n",
       "8           0.740524                       0.256076  \n",
       "9           0.720754                       0.252854  \n",
       "10          0.703833                       0.252830  \n",
       "11          0.688888                       0.249129  \n",
       "12          0.674980                       0.247398  \n",
       "13          0.662925                       0.246004  \n",
       "14          0.651617                       0.243360  \n",
       "15          0.642408                       0.241845  \n",
       "16          0.633739                       0.242037  \n",
       "17          0.626635                       0.241388  \n",
       "18          0.619649                       0.239538  \n",
       "19          0.612791                       0.237687  \n",
       "20          0.607218                       0.236340  \n",
       "21          0.600973                       0.233865  \n",
       "22          0.596274                       0.233240  \n",
       "23          0.591592                       0.231605  \n",
       "24          0.587208                       0.230283  \n",
       "25          0.583401                       0.229658  \n",
       "26          0.579849                       0.227903  \n",
       "27          0.576620                       0.227398  \n",
       "28          0.572794                       0.227278  \n",
       "29          0.569938                       0.226269  \n",
       "..               ...                            ...  \n",
       "39          0.546627                       0.219250  \n",
       "40          0.544725                       0.217976  \n",
       "41          0.543123                       0.216581  \n",
       "42          0.541561                       0.216437  \n",
       "43          0.539636                       0.215187  \n",
       "44          0.538115                       0.214346  \n",
       "45          0.536586                       0.213745  \n",
       "46          0.535123                       0.212783  \n",
       "47          0.534043                       0.212759  \n",
       "48          0.532343                       0.212038  \n",
       "49          0.531102                       0.212014  \n",
       "50          0.529784                       0.211029  \n",
       "51          0.528505                       0.211101  \n",
       "52          0.527508                       0.210788  \n",
       "53          0.526438                       0.210500  \n",
       "54          0.525033                       0.210163  \n",
       "55          0.523639                       0.209779  \n",
       "56          0.522578                       0.209394  \n",
       "57          0.521632                       0.208481  \n",
       "58          0.520644                       0.208144  \n",
       "59          0.519612                       0.207543  \n",
       "60          0.518165                       0.206870  \n",
       "61          0.517339                       0.206750  \n",
       "62          0.516577                       0.206269  \n",
       "63          0.515166                       0.205572  \n",
       "64          0.466684                       0.187015  \n",
       "65          0.434876                       0.170621  \n",
       "66          0.411299                       0.159588  \n",
       "67          0.391432                       0.149924  \n",
       "68          0.384325                       0.146679  \n",
       "\n",
       "[69 rows x 7 columns]"
      ]
     },
     "execution_count": 115,
     "metadata": {},
     "output_type": "execute_result"
    }
   ],
   "source": [
    "gbm_fit2.scoring_history()"
   ]
  },
  {
   "cell_type": "code",
   "execution_count": 30,
   "metadata": {
    "collapsed": false
   },
   "outputs": [
    {
     "name": "stdout",
     "output_type": "stream",
     "text": [
      "\n",
      "ModelMetricsMultinomial: gbm\n",
      "** Reported on test data. **\n",
      "\n",
      "MSE: 0.16303793087277552\n",
      "RMSE: 0.40377955727448056\n",
      "LogLoss: 0.506564881457785\n",
      "Mean Per-Class Error: 0.35773622555233936\n",
      "Confusion Matrix: vertical: actual; across: predicted\n",
      "\n"
     ]
    },
    {
     "data": {
      "text/html": [
       "<div style=\"overflow:auto\"><table style=\"width:50%\"><tr><td><b>functional</b></td>\n",
       "<td><b>functional needs repair</b></td>\n",
       "<td><b>non functional</b></td>\n",
       "<td><b>Error</b></td>\n",
       "<td><b>Rate</b></td></tr>\n",
       "<tr><td>4305.0</td>\n",
       "<td>91.0</td>\n",
       "<td>390.0</td>\n",
       "<td>0.1005015</td>\n",
       "<td>481 / 4,786</td></tr>\n",
       "<tr><td>362.0</td>\n",
       "<td>183.0</td>\n",
       "<td>94.0</td>\n",
       "<td>0.7136150</td>\n",
       "<td>456 / 639</td></tr>\n",
       "<tr><td>879.0</td>\n",
       "<td>40.0</td>\n",
       "<td>2628.0</td>\n",
       "<td>0.2590922</td>\n",
       "<td>919 / 3,547</td></tr>\n",
       "<tr><td>5546.0</td>\n",
       "<td>314.0</td>\n",
       "<td>3112.0</td>\n",
       "<td>0.2068658</td>\n",
       "<td>1,856 / 8,972</td></tr></table></div>"
      ],
      "text/plain": [
       "functional    functional needs repair    non functional    Error     Rate\n",
       "------------  -------------------------  ----------------  --------  -------------\n",
       "4305          91                         390               0.100501  481 / 4,786\n",
       "362           183                        94                0.713615  456 / 639\n",
       "879           40                         2628              0.259092  919 / 3,547\n",
       "5546          314                        3112              0.206866  1,856 / 8,972"
      ]
     },
     "metadata": {},
     "output_type": "display_data"
    },
    {
     "name": "stdout",
     "output_type": "stream",
     "text": [
      "Top-3 Hit Ratios: \n"
     ]
    },
    {
     "data": {
      "text/html": [
       "<div style=\"overflow:auto\"><table style=\"width:50%\"><tr><td><b>k</b></td>\n",
       "<td><b>hit_ratio</b></td></tr>\n",
       "<tr><td>1</td>\n",
       "<td>0.7931342</td></tr>\n",
       "<tr><td>2</td>\n",
       "<td>0.957646</td></tr>\n",
       "<tr><td>3</td>\n",
       "<td>1.0</td></tr></table></div>"
      ],
      "text/plain": [
       "k    hit_ratio\n",
       "---  -----------\n",
       "1    0.793134\n",
       "2    0.957646\n",
       "3    1"
      ]
     },
     "metadata": {},
     "output_type": "display_data"
    },
    {
     "data": {
      "text/plain": []
     },
     "execution_count": 30,
     "metadata": {},
     "output_type": "execute_result"
    }
   ],
   "source": [
    "gbm_perf5  #최종 0.7911"
   ]
  },
  {
   "cell_type": "code",
   "execution_count": 32,
   "metadata": {
    "collapsed": true
   },
   "outputs": [],
   "source": [
    "from h2o.estimators.deeplearning import H2ODeepLearningEstimator"
   ]
  },
  {
   "cell_type": "code",
   "execution_count": 35,
   "metadata": {
    "collapsed": false
   },
   "outputs": [
    {
     "name": "stdout",
     "output_type": "stream",
     "text": [
      "deeplearning Model Build progress: |██████████████████████████████████████| 100%\n"
     ]
    }
   ],
   "source": [
    "dl_fit1 = H2ODeepLearningEstimator(model_id='dl_fit1', seed=1)\n",
    "dl_fit1.train(x=x, y=y, training_frame=train)"
   ]
  },
  {
   "cell_type": "code",
   "execution_count": 36,
   "metadata": {
    "collapsed": false
   },
   "outputs": [
    {
     "name": "stdout",
     "output_type": "stream",
     "text": [
      "deeplearning Model Build progress: |██████████████████████████████████████| 100%\n"
     ]
    }
   ],
   "source": [
    "dl_fit2 = H2ODeepLearningEstimator(model_id='dl_fit2', \n",
    "                                   epochs=20, \n",
    "                                   hidden=[10,10], \n",
    "                                   stopping_rounds=0,  #disable early stopping\n",
    "                                   seed=1)\n",
    "dl_fit2.train(x=x, y=y, training_frame=train)"
   ]
  },
  {
   "cell_type": "markdown",
   "metadata": {
    "collapsed": false
   },
   "source": [
    "\n",
    "dl_fit3 = H2ODeepLearningEstimator(model_id='dl_fit3', \n",
    "                                   epochs=20, \n",
    "                                   hidden=[20,20],\n",
    "                                   score_interval=1,          #used for early stopping\n",
    "                                   stopping_rounds=3,         #used for early stopping\n",
    "                                  \n",
    "                                   stopping_tolerance=0.0005, #used for early stopping\n",
    "                                   seed=1)\n",
    "dl_fit3.train(x=x, y=y, training_frame=train, validation_frame=valid)"
   ]
  },
  {
   "cell_type": "code",
   "execution_count": 42,
   "metadata": {
    "collapsed": true
   },
   "outputs": [],
   "source": [
    "\n",
    "dl_perf1 = dl_fit1.model_performance(test)\n",
    "dl_perf2 = dl_fit2.model_performance(test)\n",
    "dl_perf3 = dl_fit3.model_performance(test)"
   ]
  },
  {
   "cell_type": "code",
   "execution_count": 38,
   "metadata": {
    "collapsed": false
   },
   "outputs": [
    {
     "name": "stdout",
     "output_type": "stream",
     "text": [
      "\n",
      "ModelMetricsMultinomial: deeplearning\n",
      "** Reported on test data. **\n",
      "\n",
      "MSE: 0.17877210132993498\n",
      "RMSE: 0.42281449990502334\n",
      "LogLoss: 0.5683149968245718\n",
      "Mean Per-Class Error: 0.3629151282734375\n",
      "Confusion Matrix: vertical: actual; across: predicted\n",
      "\n"
     ]
    },
    {
     "data": {
      "text/html": [
       "<div style=\"overflow:auto\"><table style=\"width:50%\"><tr><td><b>functional</b></td>\n",
       "<td><b>functional needs repair</b></td>\n",
       "<td><b>non functional</b></td>\n",
       "<td><b>Error</b></td>\n",
       "<td><b>Rate</b></td></tr>\n",
       "<tr><td>4365.0</td>\n",
       "<td>168.0</td>\n",
       "<td>253.0</td>\n",
       "<td>0.0879649</td>\n",
       "<td>421 / 4,786</td></tr>\n",
       "<tr><td>360.0</td>\n",
       "<td>211.0</td>\n",
       "<td>68.0</td>\n",
       "<td>0.6697966</td>\n",
       "<td>428 / 639</td></tr>\n",
       "<tr><td>1073.0</td>\n",
       "<td>101.0</td>\n",
       "<td>2373.0</td>\n",
       "<td>0.3309839</td>\n",
       "<td>1,174 / 3,547</td></tr>\n",
       "<tr><td>5798.0</td>\n",
       "<td>480.0</td>\n",
       "<td>2694.0</td>\n",
       "<td>0.2254793</td>\n",
       "<td>2,023 / 8,972</td></tr></table></div>"
      ],
      "text/plain": [
       "functional    functional needs repair    non functional    Error      Rate\n",
       "------------  -------------------------  ----------------  ---------  -------------\n",
       "4365          168                        253               0.0879649  421 / 4,786\n",
       "360           211                        68                0.669797   428 / 639\n",
       "1073          101                        2373              0.330984   1,174 / 3,547\n",
       "5798          480                        2694              0.225479   2,023 / 8,972"
      ]
     },
     "metadata": {},
     "output_type": "display_data"
    },
    {
     "name": "stdout",
     "output_type": "stream",
     "text": [
      "Top-3 Hit Ratios: \n"
     ]
    },
    {
     "data": {
      "text/html": [
       "<div style=\"overflow:auto\"><table style=\"width:50%\"><tr><td><b>k</b></td>\n",
       "<td><b>hit_ratio</b></td></tr>\n",
       "<tr><td>1</td>\n",
       "<td>0.7745207</td></tr>\n",
       "<tr><td>2</td>\n",
       "<td>0.9460544</td></tr>\n",
       "<tr><td>3</td>\n",
       "<td>1.0</td></tr></table></div>"
      ],
      "text/plain": [
       "k    hit_ratio\n",
       "---  -----------\n",
       "1    0.774521\n",
       "2    0.946054\n",
       "3    1"
      ]
     },
     "metadata": {},
     "output_type": "display_data"
    },
    {
     "data": {
      "text/plain": []
     },
     "execution_count": 38,
     "metadata": {},
     "output_type": "execute_result"
    }
   ],
   "source": [
    "dl_perf1 #0.7741"
   ]
  },
  {
   "cell_type": "code",
   "execution_count": 39,
   "metadata": {
    "collapsed": false
   },
   "outputs": [
    {
     "name": "stdout",
     "output_type": "stream",
     "text": [
      "\n",
      "ModelMetricsMultinomial: deeplearning\n",
      "** Reported on test data. **\n",
      "\n",
      "MSE: 0.1867986498852388\n",
      "RMSE: 0.43220209380015595\n",
      "LogLoss: 0.5853762009576046\n",
      "Mean Per-Class Error: 0.43303638892772794\n",
      "Confusion Matrix: vertical: actual; across: predicted\n",
      "\n"
     ]
    },
    {
     "data": {
      "text/html": [
       "<div style=\"overflow:auto\"><table style=\"width:50%\"><tr><td><b>functional</b></td>\n",
       "<td><b>functional needs repair</b></td>\n",
       "<td><b>non functional</b></td>\n",
       "<td><b>Error</b></td>\n",
       "<td><b>Rate</b></td></tr>\n",
       "<tr><td>4359.0</td>\n",
       "<td>39.0</td>\n",
       "<td>388.0</td>\n",
       "<td>0.0892186</td>\n",
       "<td>427 / 4,786</td></tr>\n",
       "<tr><td>436.0</td>\n",
       "<td>79.0</td>\n",
       "<td>124.0</td>\n",
       "<td>0.8763693</td>\n",
       "<td>560 / 639</td></tr>\n",
       "<tr><td>1164.0</td>\n",
       "<td>19.0</td>\n",
       "<td>2364.0</td>\n",
       "<td>0.3335213</td>\n",
       "<td>1,183 / 3,547</td></tr>\n",
       "<tr><td>5959.0</td>\n",
       "<td>137.0</td>\n",
       "<td>2876.0</td>\n",
       "<td>0.2418636</td>\n",
       "<td>2,170 / 8,972</td></tr></table></div>"
      ],
      "text/plain": [
       "functional    functional needs repair    non functional    Error      Rate\n",
       "------------  -------------------------  ----------------  ---------  -------------\n",
       "4359          39                         388               0.0892186  427 / 4,786\n",
       "436           79                         124               0.876369   560 / 639\n",
       "1164          19                         2364              0.333521   1,183 / 3,547\n",
       "5959          137                        2876              0.241864   2,170 / 8,972"
      ]
     },
     "metadata": {},
     "output_type": "display_data"
    },
    {
     "name": "stdout",
     "output_type": "stream",
     "text": [
      "Top-3 Hit Ratios: \n"
     ]
    },
    {
     "data": {
      "text/html": [
       "<div style=\"overflow:auto\"><table style=\"width:50%\"><tr><td><b>k</b></td>\n",
       "<td><b>hit_ratio</b></td></tr>\n",
       "<tr><td>1</td>\n",
       "<td>0.7581364</td></tr>\n",
       "<tr><td>2</td>\n",
       "<td>0.9450513</td></tr>\n",
       "<tr><td>3</td>\n",
       "<td>1.0</td></tr></table></div>"
      ],
      "text/plain": [
       "k    hit_ratio\n",
       "---  -----------\n",
       "1    0.758136\n",
       "2    0.945051\n",
       "3    1"
      ]
     },
     "metadata": {},
     "output_type": "display_data"
    },
    {
     "data": {
      "text/plain": []
     },
     "execution_count": 39,
     "metadata": {},
     "output_type": "execute_result"
    }
   ],
   "source": [
    "dl_perf2"
   ]
  },
  {
   "cell_type": "code",
   "execution_count": 43,
   "metadata": {
    "collapsed": false
   },
   "outputs": [
    {
     "name": "stdout",
     "output_type": "stream",
     "text": [
      "\n",
      "ModelMetricsMultinomial: deeplearning\n",
      "** Reported on test data. **\n",
      "\n",
      "MSE: 0.17970954372798933\n",
      "RMSE: 0.423921624510934\n",
      "LogLoss: 0.5693096598332138\n",
      "Mean Per-Class Error: 0.39301745899821366\n",
      "Confusion Matrix: vertical: actual; across: predicted\n",
      "\n"
     ]
    },
    {
     "data": {
      "text/html": [
       "<div style=\"overflow:auto\"><table style=\"width:50%\"><tr><td><b>functional</b></td>\n",
       "<td><b>functional needs repair</b></td>\n",
       "<td><b>non functional</b></td>\n",
       "<td><b>Error</b></td>\n",
       "<td><b>Rate</b></td></tr>\n",
       "<tr><td>4282.0</td>\n",
       "<td>79.0</td>\n",
       "<td>425.0</td>\n",
       "<td>0.1053071</td>\n",
       "<td>504 / 4,786</td></tr>\n",
       "<tr><td>406.0</td>\n",
       "<td>146.0</td>\n",
       "<td>87.0</td>\n",
       "<td>0.7715180</td>\n",
       "<td>493 / 639</td></tr>\n",
       "<tr><td>1028.0</td>\n",
       "<td>44.0</td>\n",
       "<td>2475.0</td>\n",
       "<td>0.3022272</td>\n",
       "<td>1,072 / 3,547</td></tr>\n",
       "<tr><td>5716.0</td>\n",
       "<td>269.0</td>\n",
       "<td>2987.0</td>\n",
       "<td>0.2306063</td>\n",
       "<td>2,069 / 8,972</td></tr></table></div>"
      ],
      "text/plain": [
       "functional    functional needs repair    non functional    Error     Rate\n",
       "------------  -------------------------  ----------------  --------  -------------\n",
       "4282          79                         425               0.105307  504 / 4,786\n",
       "406           146                        87                0.771518  493 / 639\n",
       "1028          44                         2475              0.302227  1,072 / 3,547\n",
       "5716          269                        2987              0.230606  2,069 / 8,972"
      ]
     },
     "metadata": {},
     "output_type": "display_data"
    },
    {
     "name": "stdout",
     "output_type": "stream",
     "text": [
      "Top-3 Hit Ratios: \n"
     ]
    },
    {
     "data": {
      "text/html": [
       "<div style=\"overflow:auto\"><table style=\"width:50%\"><tr><td><b>k</b></td>\n",
       "<td><b>hit_ratio</b></td></tr>\n",
       "<tr><td>1</td>\n",
       "<td>0.7693937</td></tr>\n",
       "<tr><td>2</td>\n",
       "<td>0.9502898</td></tr>\n",
       "<tr><td>3</td>\n",
       "<td>1.0</td></tr></table></div>"
      ],
      "text/plain": [
       "k    hit_ratio\n",
       "---  -----------\n",
       "1    0.769394\n",
       "2    0.95029\n",
       "3    1"
      ]
     },
     "metadata": {},
     "output_type": "display_data"
    },
    {
     "data": {
      "text/plain": []
     },
     "execution_count": 43,
     "metadata": {},
     "output_type": "execute_result"
    }
   ],
   "source": [
    "    dl_perf3"
   ]
  },
  {
   "cell_type": "markdown",
   "metadata": {
    "collapsed": false
   },
   "source": [
    "dl_fit3.scoring_history()"
   ]
  },
  {
   "cell_type": "markdown",
   "metadata": {},
   "source": [
    "gbm grid search"
   ]
  },
  {
   "cell_type": "code",
   "execution_count": 16,
   "metadata": {
    "collapsed": true
   },
   "outputs": [],
   "source": [
    "from h2o.grid.grid_search import H2OGridSearch"
   ]
  },
  {
   "cell_type": "code",
   "execution_count": 17,
   "metadata": {
    "collapsed": true
   },
   "outputs": [],
   "source": [
    "gbm_params1 = {'learn_rate': [0.01, 0.1], \n",
    "                'max_depth': [3, 5, 9],\n",
    "                'sample_rate': [0.8, 1.0],\n",
    "                'col_sample_rate': [0.2, 0.5, 1.0]}"
   ]
  },
  {
   "cell_type": "code",
   "execution_count": 20,
   "metadata": {
    "collapsed": false
   },
   "outputs": [
    {
     "name": "stdout",
     "output_type": "stream",
     "text": [
      "gbm Grid Build progress: |████████████████████████████████████████████████| 100%\n"
     ]
    }
   ],
   "source": [
    "gbm_grid1 = H2OGridSearch(model=H2OGradientBoostingEstimator,\n",
    "                          grid_id='gbm_grid1',\n",
    "                          hyper_params=gbm_params1)\n",
    "gbm_grid1.train(x=x, y=y, \n",
    "                training_frame=train, \n",
    "                validation_frame=valid, \n",
    "                ntrees=100,\n",
    "                seed=1)"
   ]
  },
  {
   "cell_type": "code",
   "execution_count": 22,
   "metadata": {
    "collapsed": false
   },
   "outputs": [],
   "source": [
    "gbm_gridperf = gbm_grid1.get_grid"
   ]
  },
  {
   "cell_type": "code",
   "execution_count": 23,
   "metadata": {
    "collapsed": false
   },
   "outputs": [
    {
     "name": "stdout",
     "output_type": "stream",
     "text": [
      "     col_sample_rate learn_rate max_depth sample_rate           model_ids  \\\n",
      "0                0.5        0.1         9         1.0  gbm_grid1_model_34   \n",
      "1                0.2        0.1         9         1.0  gbm_grid1_model_33   \n",
      "2                1.0        0.1         9         1.0  gbm_grid1_model_35   \n",
      "3                0.2        0.1         9         0.8  gbm_grid1_model_15   \n",
      "4                0.5        0.1         9         0.8  gbm_grid1_model_16   \n",
      "5                1.0        0.1         9         0.8  gbm_grid1_model_17   \n",
      "6                0.5        0.1         5         1.0  gbm_grid1_model_28   \n",
      "7                1.0        0.1         5         1.0  gbm_grid1_model_29   \n",
      "8                0.2        0.1         5         1.0  gbm_grid1_model_27   \n",
      "9                1.0        0.1         5         0.8  gbm_grid1_model_11   \n",
      "10               0.5        0.1         5         0.8  gbm_grid1_model_10   \n",
      "11               0.2        0.1         5         0.8   gbm_grid1_model_9   \n",
      "12               1.0        0.1         3         1.0  gbm_grid1_model_23   \n",
      "13               1.0        0.1         3         0.8   gbm_grid1_model_5   \n",
      "14               0.5        0.1         3         1.0  gbm_grid1_model_22   \n",
      "15               0.5        0.1         3         0.8   gbm_grid1_model_4   \n",
      "16               0.2        0.1         3         1.0  gbm_grid1_model_21   \n",
      "17               0.2        0.1         3         0.8   gbm_grid1_model_3   \n",
      "18               0.5       0.01         9         1.0  gbm_grid1_model_31   \n",
      "19               0.5       0.01         9         0.8  gbm_grid1_model_13   \n",
      "20               0.2       0.01         9         1.0  gbm_grid1_model_30   \n",
      "21               0.2       0.01         9         0.8  gbm_grid1_model_12   \n",
      "22               1.0       0.01         9         0.8  gbm_grid1_model_14   \n",
      "23               1.0       0.01         9         1.0  gbm_grid1_model_32   \n",
      "24               0.5       0.01         5         1.0  gbm_grid1_model_25   \n",
      "25               0.5       0.01         5         0.8   gbm_grid1_model_7   \n",
      "26               1.0       0.01         5         0.8   gbm_grid1_model_8   \n",
      "27               1.0       0.01         5         1.0  gbm_grid1_model_26   \n",
      "28               0.2       0.01         5         1.0  gbm_grid1_model_24   \n",
      "29               0.2       0.01         5         0.8   gbm_grid1_model_6   \n",
      "30               1.0       0.01         3         0.8   gbm_grid1_model_2   \n",
      "31               1.0       0.01         3         1.0  gbm_grid1_model_20   \n",
      "32               0.5       0.01         3         0.8   gbm_grid1_model_1   \n",
      "33               0.5       0.01         3         1.0  gbm_grid1_model_19   \n",
      "34               0.2       0.01         3         0.8   gbm_grid1_model_0   \n",
      "35               0.2       0.01         3         1.0  gbm_grid1_model_18   \n",
      "\n",
      "                logloss  \n",
      "0     0.482412929549151  \n",
      "1    0.4824746107662085  \n",
      "2   0.48347244503221565  \n",
      "3   0.48354713948483286  \n",
      "4   0.48519768753588727  \n",
      "5   0.48848633515575135  \n",
      "6    0.5220555890235178  \n",
      "7    0.5226812018072228  \n",
      "8    0.5241158595263635  \n",
      "9     0.524350591113899  \n",
      "10   0.5244185540847277  \n",
      "11    0.525259446755516  \n",
      "12   0.5586581410486112  \n",
      "13   0.5588279086020131  \n",
      "14   0.5591934579844089  \n",
      "15   0.5592075355998791  \n",
      "16   0.5665649817085671  \n",
      "17   0.5674842245717878  \n",
      "18   0.6569379254120394  \n",
      "19   0.6580904354227799  \n",
      "20   0.6625099024890005  \n",
      "21   0.6640516115550005  \n",
      "22   0.6674279745927746  \n",
      "23   0.6679000718570335  \n",
      "24   0.7053546494989208  \n",
      "25   0.7056224655051331  \n",
      "26   0.7068021977001936  \n",
      "27    0.706908575482672  \n",
      "28   0.7209037545092294  \n",
      "29   0.7212541334360205  \n",
      "30   0.7416514192128549  \n",
      "31   0.7419814455053181  \n",
      "32   0.7446163359007449  \n",
      "33   0.7451462532497362  \n",
      "34   0.7668288438068523  \n",
      "35   0.7671090077580672  \n",
      "<bound method H2OGridSearch.get_grid of >\n"
     ]
    }
   ],
   "source": [
    "print(gbm_gridperf)"
   ]
  },
  {
   "cell_type": "code",
   "execution_count": null,
   "metadata": {
    "collapsed": true
   },
   "outputs": [],
   "source": []
  }
 ],
 "metadata": {
  "anaconda-cloud": {},
  "kernelspec": {
   "display_name": "Python [conda root]",
   "language": "python",
   "name": "conda-root-py"
  },
  "language_info": {
   "codemirror_mode": {
    "name": "ipython",
    "version": 3
   },
   "file_extension": ".py",
   "mimetype": "text/x-python",
   "name": "python",
   "nbconvert_exporter": "python",
   "pygments_lexer": "ipython3",
   "version": "3.5.2"
  }
 },
 "nbformat": 4,
 "nbformat_minor": 1
}
